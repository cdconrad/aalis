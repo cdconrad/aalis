{
 "cells": [
  {
   "cell_type": "markdown",
   "metadata": {},
   "source": [
    "# Questionnaire Analysis - 2020 edition\n",
    "There are differences in a) the number of participants analyzed and b) the measures that should be compared. In this script I compare the questionnaire results to the 2020 re-analyzed data."
   ]
  },
  {
   "cell_type": "code",
   "execution_count": 1,
   "metadata": {},
   "outputs": [],
   "source": [
    "library(psych)"
   ]
  },
  {
   "cell_type": "markdown",
   "metadata": {},
   "source": [
    "## Retrieve questionnaires data"
   ]
  },
  {
   "cell_type": "code",
   "execution_count": 2,
   "metadata": {},
   "outputs": [
    {
     "name": "stdout",
     "output_type": "stream",
     "text": [
      "[1] \"/media/NCILscience/ColinConrad_eLearn/full_study/analysis/survey_measures.csv\"\n"
     ]
    }
   ],
   "source": [
    "topdir = getwd()\n",
    "\n",
    "infile <- paste(topdir, '/survey_measures.csv',sep=\"\")\n",
    "print(infile)\n",
    "survey <- read.csv(infile)"
   ]
  },
  {
   "cell_type": "code",
   "execution_count": 3,
   "metadata": {},
   "outputs": [
    {
     "data": {
      "text/html": [
       "<table>\n",
       "<caption>A data.frame: 6 × 31</caption>\n",
       "<thead>\n",
       "\t<tr><th scope=col>Subj</th><th scope=col>Age</th><th scope=col>Gender</th><th scope=col>Degree</th><th scope=col>Interest</th><th scope=col>ATTN_TotalAttention</th><th scope=col>ATTN_Focus</th><th scope=col>ATTN_ThoughtAhead</th><th scope=col>ATTN_AttentionCorrect</th><th scope=col>TLX_Pace</th><th scope=col>⋯</th><th scope=col>TU_RPast</th><th scope=col>TU_DPast</th><th scope=col>TU_Future</th><th scope=col>TR_Email</th><th scope=col>TR_SocialMedia</th><th scope=col>TR_Browsing</th><th scope=col>TR_Phone</th><th scope=col>TR_Online</th><th scope=col>Pre_Score</th><th scope=col>Post_Score</th></tr>\n",
       "\t<tr><th scope=col>&lt;int&gt;</th><th scope=col>&lt;int&gt;</th><th scope=col>&lt;fct&gt;</th><th scope=col>&lt;fct&gt;</th><th scope=col>&lt;int&gt;</th><th scope=col>&lt;int&gt;</th><th scope=col>&lt;int&gt;</th><th scope=col>&lt;int&gt;</th><th scope=col>&lt;int&gt;</th><th scope=col>&lt;int&gt;</th><th scope=col>⋯</th><th scope=col>&lt;int&gt;</th><th scope=col>&lt;int&gt;</th><th scope=col>&lt;int&gt;</th><th scope=col>&lt;int&gt;</th><th scope=col>&lt;int&gt;</th><th scope=col>&lt;int&gt;</th><th scope=col>&lt;int&gt;</th><th scope=col>&lt;int&gt;</th><th scope=col>&lt;int&gt;</th><th scope=col>&lt;int&gt;</th></tr>\n",
       "</thead>\n",
       "<tbody>\n",
       "\t<tr><td>1</td><td>23</td><td>M</td><td>BCSC </td><td>5</td><td>4</td><td>2</td><td>2</td><td>6</td><td>6</td><td>⋯</td><td>1</td><td>1</td><td>1</td><td>1</td><td>1</td><td>1</td><td>1</td><td>6</td><td>2</td><td>8</td></tr>\n",
       "\t<tr><td>2</td><td>24</td><td>M</td><td>OTHER</td><td>7</td><td>6</td><td>2</td><td>5</td><td>7</td><td>1</td><td>⋯</td><td>3</td><td>3</td><td>6</td><td>1</td><td>1</td><td>5</td><td>1</td><td>1</td><td>5</td><td>5</td></tr>\n",
       "\t<tr><td>3</td><td>21</td><td>M</td><td>BCSC </td><td>5</td><td>6</td><td>6</td><td>4</td><td>5</td><td>6</td><td>⋯</td><td>2</td><td>3</td><td>6</td><td>1</td><td>1</td><td>1</td><td>1</td><td>1</td><td>2</td><td>4</td></tr>\n",
       "\t<tr><td>4</td><td>27</td><td>M</td><td>BSC  </td><td>5</td><td>6</td><td>4</td><td>3</td><td>5</td><td>5</td><td>⋯</td><td>5</td><td>1</td><td>5</td><td>7</td><td>3</td><td>4</td><td>7</td><td>5</td><td>4</td><td>6</td></tr>\n",
       "\t<tr><td>5</td><td>18</td><td>M</td><td>BCSC </td><td>5</td><td>4</td><td>5</td><td>4</td><td>5</td><td>6</td><td>⋯</td><td>5</td><td>2</td><td>3</td><td>1</td><td>5</td><td>3</td><td>6</td><td>1</td><td>4</td><td>2</td></tr>\n",
       "\t<tr><td>6</td><td>22</td><td>F</td><td>OTHER</td><td>4</td><td>5</td><td>5</td><td>2</td><td>4</td><td>6</td><td>⋯</td><td>4</td><td>1</td><td>6</td><td>1</td><td>1</td><td>5</td><td>1</td><td>1</td><td>8</td><td>4</td></tr>\n",
       "</tbody>\n",
       "</table>\n"
      ],
      "text/latex": [
       "A data.frame: 6 × 31\n",
       "\\begin{tabular}{r|lllllllllllllllllllllllllllllll}\n",
       " Subj & Age & Gender & Degree & Interest & ATTN\\_TotalAttention & ATTN\\_Focus & ATTN\\_ThoughtAhead & ATTN\\_AttentionCorrect & TLX\\_Pace & TLX\\_Success & TLX\\_WorkedHard & TLX\\_DiscouragedAnnoyed & TLX\\_MentallyDemanding & TLX\\_PhysicallyDemanding & TU\\_Family & TU\\_Friends & TU\\_Guilty & TU\\_Personal & TU\\_Angry & TU\\_Earlier & TU\\_RPast & TU\\_DPast & TU\\_Future & TR\\_Email & TR\\_SocialMedia & TR\\_Browsing & TR\\_Phone & TR\\_Online & Pre\\_Score & Post\\_Score\\\\\n",
       " <int> & <int> & <fct> & <fct> & <int> & <int> & <int> & <int> & <int> & <int> & <int> & <int> & <int> & <int> & <int> & <int> & <int> & <int> & <int> & <int> & <int> & <int> & <int> & <int> & <int> & <int> & <int> & <int> & <int> & <int> & <int>\\\\\n",
       "\\hline\n",
       "\t 1 & 23 & M & BCSC  & 5 & 4 & 2 & 2 & 6 & 6 & 5 & 5 & 2 & 7 & 2 & 1 & 1 & 1 & 1 & 1 & 1 & 1 & 1 & 1 & 1 & 1 & 1 & 1 & 6 & 2 & 8\\\\\n",
       "\t 2 & 24 & M & OTHER & 7 & 6 & 2 & 5 & 7 & 1 & 4 & 1 & 1 & 1 & 3 & 1 & 1 & 1 & 1 & 3 & 1 & 3 & 3 & 6 & 1 & 1 & 5 & 1 & 1 & 5 & 5\\\\\n",
       "\t 3 & 21 & M & BCSC  & 5 & 6 & 6 & 4 & 5 & 6 & 5 & 5 & 2 & 4 & 2 & 7 & 4 & 3 & 2 & 2 & 2 & 2 & 3 & 6 & 1 & 1 & 1 & 1 & 1 & 2 & 4\\\\\n",
       "\t 4 & 27 & M & BSC   & 5 & 6 & 4 & 3 & 5 & 5 & 6 & 5 & 2 & 4 & 5 & 3 & 1 & 1 & 4 & 1 & 2 & 5 & 1 & 5 & 7 & 3 & 4 & 7 & 5 & 4 & 6\\\\\n",
       "\t 5 & 18 & M & BCSC  & 5 & 4 & 5 & 4 & 5 & 6 & 3 & 5 & 1 & 3 & 1 & 1 & 3 & 1 & 3 & 1 & 4 & 5 & 2 & 3 & 1 & 5 & 3 & 6 & 1 & 4 & 2\\\\\n",
       "\t 6 & 22 & F & OTHER & 4 & 5 & 5 & 2 & 4 & 6 & 5 & 4 & 1 & 5 & 3 & 1 & 3 & 6 & 3 & 1 & 6 & 4 & 1 & 6 & 1 & 1 & 5 & 1 & 1 & 8 & 4\\\\\n",
       "\\end{tabular}\n"
      ],
      "text/markdown": [
       "\n",
       "A data.frame: 6 × 31\n",
       "\n",
       "| Subj &lt;int&gt; | Age &lt;int&gt; | Gender &lt;fct&gt; | Degree &lt;fct&gt; | Interest &lt;int&gt; | ATTN_TotalAttention &lt;int&gt; | ATTN_Focus &lt;int&gt; | ATTN_ThoughtAhead &lt;int&gt; | ATTN_AttentionCorrect &lt;int&gt; | TLX_Pace &lt;int&gt; | ⋯ ⋯ | TU_RPast &lt;int&gt; | TU_DPast &lt;int&gt; | TU_Future &lt;int&gt; | TR_Email &lt;int&gt; | TR_SocialMedia &lt;int&gt; | TR_Browsing &lt;int&gt; | TR_Phone &lt;int&gt; | TR_Online &lt;int&gt; | Pre_Score &lt;int&gt; | Post_Score &lt;int&gt; |\n",
       "|---|---|---|---|---|---|---|---|---|---|---|---|---|---|---|---|---|---|---|---|---|\n",
       "| 1 | 23 | M | BCSC  | 5 | 4 | 2 | 2 | 6 | 6 | ⋯ | 1 | 1 | 1 | 1 | 1 | 1 | 1 | 6 | 2 | 8 |\n",
       "| 2 | 24 | M | OTHER | 7 | 6 | 2 | 5 | 7 | 1 | ⋯ | 3 | 3 | 6 | 1 | 1 | 5 | 1 | 1 | 5 | 5 |\n",
       "| 3 | 21 | M | BCSC  | 5 | 6 | 6 | 4 | 5 | 6 | ⋯ | 2 | 3 | 6 | 1 | 1 | 1 | 1 | 1 | 2 | 4 |\n",
       "| 4 | 27 | M | BSC   | 5 | 6 | 4 | 3 | 5 | 5 | ⋯ | 5 | 1 | 5 | 7 | 3 | 4 | 7 | 5 | 4 | 6 |\n",
       "| 5 | 18 | M | BCSC  | 5 | 4 | 5 | 4 | 5 | 6 | ⋯ | 5 | 2 | 3 | 1 | 5 | 3 | 6 | 1 | 4 | 2 |\n",
       "| 6 | 22 | F | OTHER | 4 | 5 | 5 | 2 | 4 | 6 | ⋯ | 4 | 1 | 6 | 1 | 1 | 5 | 1 | 1 | 8 | 4 |\n",
       "\n"
      ],
      "text/plain": [
       "  Subj Age Gender Degree Interest ATTN_TotalAttention ATTN_Focus\n",
       "1 1    23  M      BCSC   5        4                   2         \n",
       "2 2    24  M      OTHER  7        6                   2         \n",
       "3 3    21  M      BCSC   5        6                   6         \n",
       "4 4    27  M      BSC    5        6                   4         \n",
       "5 5    18  M      BCSC   5        4                   5         \n",
       "6 6    22  F      OTHER  4        5                   5         \n",
       "  ATTN_ThoughtAhead ATTN_AttentionCorrect TLX_Pace ⋯ TU_RPast TU_DPast\n",
       "1 2                 6                     6        ⋯ 1        1       \n",
       "2 5                 7                     1        ⋯ 3        3       \n",
       "3 4                 5                     6        ⋯ 2        3       \n",
       "4 3                 5                     5        ⋯ 5        1       \n",
       "5 4                 5                     6        ⋯ 5        2       \n",
       "6 2                 4                     6        ⋯ 4        1       \n",
       "  TU_Future TR_Email TR_SocialMedia TR_Browsing TR_Phone TR_Online Pre_Score\n",
       "1 1         1        1              1           1        6         2        \n",
       "2 6         1        1              5           1        1         5        \n",
       "3 6         1        1              1           1        1         2        \n",
       "4 5         7        3              4           7        5         4        \n",
       "5 3         1        5              3           6        1         4        \n",
       "6 6         1        1              5           1        1         8        \n",
       "  Post_Score\n",
       "1 8         \n",
       "2 5         \n",
       "3 4         \n",
       "4 6         \n",
       "5 2         \n",
       "6 4         "
      ]
     },
     "metadata": {},
     "output_type": "display_data"
    }
   ],
   "source": [
    "head(survey)"
   ]
  },
  {
   "cell_type": "code",
   "execution_count": 4,
   "metadata": {},
   "outputs": [],
   "source": [
    "infile <- paste(topdir, '/experience_samples.csv',sep=\"\")\n",
    "samples <- read.csv(infile)"
   ]
  },
  {
   "cell_type": "code",
   "execution_count": 5,
   "metadata": {},
   "outputs": [
    {
     "data": {
      "text/html": [
       "<table>\n",
       "<caption>A data.frame: 6 × 11</caption>\n",
       "<thead>\n",
       "\t<tr><th scope=col>participant_id</th><th scope=col>p1</th><th scope=col>p2</th><th scope=col>p3</th><th scope=col>p4</th><th scope=col>p5</th><th scope=col>p6</th><th scope=col>p7</th><th scope=col>p8</th><th scope=col>p9</th><th scope=col>p10</th></tr>\n",
       "\t<tr><th scope=col>&lt;int&gt;</th><th scope=col>&lt;int&gt;</th><th scope=col>&lt;int&gt;</th><th scope=col>&lt;int&gt;</th><th scope=col>&lt;int&gt;</th><th scope=col>&lt;int&gt;</th><th scope=col>&lt;int&gt;</th><th scope=col>&lt;int&gt;</th><th scope=col>&lt;int&gt;</th><th scope=col>&lt;int&gt;</th><th scope=col>&lt;int&gt;</th></tr>\n",
       "</thead>\n",
       "<tbody>\n",
       "\t<tr><td>1</td><td>2</td><td>1</td><td>2</td><td>1</td><td>3</td><td>2</td><td>5</td><td>1</td><td>4</td><td>1</td></tr>\n",
       "\t<tr><td>2</td><td>3</td><td>1</td><td>1</td><td>1</td><td>1</td><td>2</td><td>3</td><td>1</td><td>4</td><td>2</td></tr>\n",
       "\t<tr><td>3</td><td>4</td><td>2</td><td>1</td><td>1</td><td>3</td><td>1</td><td>2</td><td>3</td><td>2</td><td>1</td></tr>\n",
       "\t<tr><td>4</td><td>2</td><td>1</td><td>3</td><td>4</td><td>1</td><td>3</td><td>2</td><td>4</td><td>3</td><td>2</td></tr>\n",
       "\t<tr><td>5</td><td>2</td><td>2</td><td>2</td><td>3</td><td>3</td><td>4</td><td>3</td><td>3</td><td>3</td><td>3</td></tr>\n",
       "\t<tr><td>6</td><td>1</td><td>2</td><td>1</td><td>2</td><td>3</td><td>2</td><td>2</td><td>3</td><td>4</td><td>1</td></tr>\n",
       "</tbody>\n",
       "</table>\n"
      ],
      "text/latex": [
       "A data.frame: 6 × 11\n",
       "\\begin{tabular}{r|lllllllllll}\n",
       " participant\\_id & p1 & p2 & p3 & p4 & p5 & p6 & p7 & p8 & p9 & p10\\\\\n",
       " <int> & <int> & <int> & <int> & <int> & <int> & <int> & <int> & <int> & <int> & <int>\\\\\n",
       "\\hline\n",
       "\t 1 & 2 & 1 & 2 & 1 & 3 & 2 & 5 & 1 & 4 & 1\\\\\n",
       "\t 2 & 3 & 1 & 1 & 1 & 1 & 2 & 3 & 1 & 4 & 2\\\\\n",
       "\t 3 & 4 & 2 & 1 & 1 & 3 & 1 & 2 & 3 & 2 & 1\\\\\n",
       "\t 4 & 2 & 1 & 3 & 4 & 1 & 3 & 2 & 4 & 3 & 2\\\\\n",
       "\t 5 & 2 & 2 & 2 & 3 & 3 & 4 & 3 & 3 & 3 & 3\\\\\n",
       "\t 6 & 1 & 2 & 1 & 2 & 3 & 2 & 2 & 3 & 4 & 1\\\\\n",
       "\\end{tabular}\n"
      ],
      "text/markdown": [
       "\n",
       "A data.frame: 6 × 11\n",
       "\n",
       "| participant_id &lt;int&gt; | p1 &lt;int&gt; | p2 &lt;int&gt; | p3 &lt;int&gt; | p4 &lt;int&gt; | p5 &lt;int&gt; | p6 &lt;int&gt; | p7 &lt;int&gt; | p8 &lt;int&gt; | p9 &lt;int&gt; | p10 &lt;int&gt; |\n",
       "|---|---|---|---|---|---|---|---|---|---|---|\n",
       "| 1 | 2 | 1 | 2 | 1 | 3 | 2 | 5 | 1 | 4 | 1 |\n",
       "| 2 | 3 | 1 | 1 | 1 | 1 | 2 | 3 | 1 | 4 | 2 |\n",
       "| 3 | 4 | 2 | 1 | 1 | 3 | 1 | 2 | 3 | 2 | 1 |\n",
       "| 4 | 2 | 1 | 3 | 4 | 1 | 3 | 2 | 4 | 3 | 2 |\n",
       "| 5 | 2 | 2 | 2 | 3 | 3 | 4 | 3 | 3 | 3 | 3 |\n",
       "| 6 | 1 | 2 | 1 | 2 | 3 | 2 | 2 | 3 | 4 | 1 |\n",
       "\n"
      ],
      "text/plain": [
       "  participant_id p1 p2 p3 p4 p5 p6 p7 p8 p9 p10\n",
       "1 1              2  1  2  1  3  2  5  1  4  1  \n",
       "2 2              3  1  1  1  1  2  3  1  4  2  \n",
       "3 3              4  2  1  1  3  1  2  3  2  1  \n",
       "4 4              2  1  3  4  1  3  2  4  3  2  \n",
       "5 5              2  2  2  3  3  4  3  3  3  3  \n",
       "6 6              1  2  1  2  3  2  2  3  4  1  "
      ]
     },
     "metadata": {},
     "output_type": "display_data"
    }
   ],
   "source": [
    "head(samples)"
   ]
  },
  {
   "cell_type": "markdown",
   "metadata": {},
   "source": [
    "## Merge files"
   ]
  },
  {
   "cell_type": "code",
   "execution_count": 6,
   "metadata": {},
   "outputs": [],
   "source": [
    "dat <- merge(survey, samples, by.x=\"Subj\", by.y=\"participant_id\")"
   ]
  },
  {
   "cell_type": "code",
   "execution_count": 7,
   "metadata": {},
   "outputs": [
    {
     "data": {
      "text/html": [
       "<table>\n",
       "<caption>A data.frame: 6 × 41</caption>\n",
       "<thead>\n",
       "\t<tr><th scope=col>Subj</th><th scope=col>Age</th><th scope=col>Gender</th><th scope=col>Degree</th><th scope=col>Interest</th><th scope=col>ATTN_TotalAttention</th><th scope=col>ATTN_Focus</th><th scope=col>ATTN_ThoughtAhead</th><th scope=col>ATTN_AttentionCorrect</th><th scope=col>TLX_Pace</th><th scope=col>⋯</th><th scope=col>p1</th><th scope=col>p2</th><th scope=col>p3</th><th scope=col>p4</th><th scope=col>p5</th><th scope=col>p6</th><th scope=col>p7</th><th scope=col>p8</th><th scope=col>p9</th><th scope=col>p10</th></tr>\n",
       "\t<tr><th scope=col>&lt;int&gt;</th><th scope=col>&lt;int&gt;</th><th scope=col>&lt;fct&gt;</th><th scope=col>&lt;fct&gt;</th><th scope=col>&lt;int&gt;</th><th scope=col>&lt;int&gt;</th><th scope=col>&lt;int&gt;</th><th scope=col>&lt;int&gt;</th><th scope=col>&lt;int&gt;</th><th scope=col>&lt;int&gt;</th><th scope=col>⋯</th><th scope=col>&lt;int&gt;</th><th scope=col>&lt;int&gt;</th><th scope=col>&lt;int&gt;</th><th scope=col>&lt;int&gt;</th><th scope=col>&lt;int&gt;</th><th scope=col>&lt;int&gt;</th><th scope=col>&lt;int&gt;</th><th scope=col>&lt;int&gt;</th><th scope=col>&lt;int&gt;</th><th scope=col>&lt;int&gt;</th></tr>\n",
       "</thead>\n",
       "<tbody>\n",
       "\t<tr><td>1</td><td>23</td><td>M</td><td>BCSC </td><td>5</td><td>4</td><td>2</td><td>2</td><td>6</td><td>6</td><td>⋯</td><td>2</td><td>1</td><td>2</td><td>1</td><td>3</td><td>2</td><td>5</td><td>1</td><td>4</td><td>1</td></tr>\n",
       "\t<tr><td>2</td><td>24</td><td>M</td><td>OTHER</td><td>7</td><td>6</td><td>2</td><td>5</td><td>7</td><td>1</td><td>⋯</td><td>3</td><td>1</td><td>1</td><td>1</td><td>1</td><td>2</td><td>3</td><td>1</td><td>4</td><td>2</td></tr>\n",
       "\t<tr><td>3</td><td>21</td><td>M</td><td>BCSC </td><td>5</td><td>6</td><td>6</td><td>4</td><td>5</td><td>6</td><td>⋯</td><td>4</td><td>2</td><td>1</td><td>1</td><td>3</td><td>1</td><td>2</td><td>3</td><td>2</td><td>1</td></tr>\n",
       "\t<tr><td>4</td><td>27</td><td>M</td><td>BSC  </td><td>5</td><td>6</td><td>4</td><td>3</td><td>5</td><td>5</td><td>⋯</td><td>2</td><td>1</td><td>3</td><td>4</td><td>1</td><td>3</td><td>2</td><td>4</td><td>3</td><td>2</td></tr>\n",
       "\t<tr><td>5</td><td>18</td><td>M</td><td>BCSC </td><td>5</td><td>4</td><td>5</td><td>4</td><td>5</td><td>6</td><td>⋯</td><td>2</td><td>2</td><td>2</td><td>3</td><td>3</td><td>4</td><td>3</td><td>3</td><td>3</td><td>3</td></tr>\n",
       "\t<tr><td>6</td><td>22</td><td>F</td><td>OTHER</td><td>4</td><td>5</td><td>5</td><td>2</td><td>4</td><td>6</td><td>⋯</td><td>1</td><td>2</td><td>1</td><td>2</td><td>3</td><td>2</td><td>2</td><td>3</td><td>4</td><td>1</td></tr>\n",
       "</tbody>\n",
       "</table>\n"
      ],
      "text/latex": [
       "A data.frame: 6 × 41\n",
       "\\begin{tabular}{r|lllllllllllllllllllllllllllllllllllllllll}\n",
       " Subj & Age & Gender & Degree & Interest & ATTN\\_TotalAttention & ATTN\\_Focus & ATTN\\_ThoughtAhead & ATTN\\_AttentionCorrect & TLX\\_Pace & TLX\\_Success & TLX\\_WorkedHard & TLX\\_DiscouragedAnnoyed & TLX\\_MentallyDemanding & TLX\\_PhysicallyDemanding & TU\\_Family & TU\\_Friends & TU\\_Guilty & TU\\_Personal & TU\\_Angry & TU\\_Earlier & TU\\_RPast & TU\\_DPast & TU\\_Future & TR\\_Email & TR\\_SocialMedia & TR\\_Browsing & TR\\_Phone & TR\\_Online & Pre\\_Score & Post\\_Score & p1 & p2 & p3 & p4 & p5 & p6 & p7 & p8 & p9 & p10\\\\\n",
       " <int> & <int> & <fct> & <fct> & <int> & <int> & <int> & <int> & <int> & <int> & <int> & <int> & <int> & <int> & <int> & <int> & <int> & <int> & <int> & <int> & <int> & <int> & <int> & <int> & <int> & <int> & <int> & <int> & <int> & <int> & <int> & <int> & <int> & <int> & <int> & <int> & <int> & <int> & <int> & <int> & <int>\\\\\n",
       "\\hline\n",
       "\t 1 & 23 & M & BCSC  & 5 & 4 & 2 & 2 & 6 & 6 & 5 & 5 & 2 & 7 & 2 & 1 & 1 & 1 & 1 & 1 & 1 & 1 & 1 & 1 & 1 & 1 & 1 & 1 & 6 & 2 & 8 & 2 & 1 & 2 & 1 & 3 & 2 & 5 & 1 & 4 & 1\\\\\n",
       "\t 2 & 24 & M & OTHER & 7 & 6 & 2 & 5 & 7 & 1 & 4 & 1 & 1 & 1 & 3 & 1 & 1 & 1 & 1 & 3 & 1 & 3 & 3 & 6 & 1 & 1 & 5 & 1 & 1 & 5 & 5 & 3 & 1 & 1 & 1 & 1 & 2 & 3 & 1 & 4 & 2\\\\\n",
       "\t 3 & 21 & M & BCSC  & 5 & 6 & 6 & 4 & 5 & 6 & 5 & 5 & 2 & 4 & 2 & 7 & 4 & 3 & 2 & 2 & 2 & 2 & 3 & 6 & 1 & 1 & 1 & 1 & 1 & 2 & 4 & 4 & 2 & 1 & 1 & 3 & 1 & 2 & 3 & 2 & 1\\\\\n",
       "\t 4 & 27 & M & BSC   & 5 & 6 & 4 & 3 & 5 & 5 & 6 & 5 & 2 & 4 & 5 & 3 & 1 & 1 & 4 & 1 & 2 & 5 & 1 & 5 & 7 & 3 & 4 & 7 & 5 & 4 & 6 & 2 & 1 & 3 & 4 & 1 & 3 & 2 & 4 & 3 & 2\\\\\n",
       "\t 5 & 18 & M & BCSC  & 5 & 4 & 5 & 4 & 5 & 6 & 3 & 5 & 1 & 3 & 1 & 1 & 3 & 1 & 3 & 1 & 4 & 5 & 2 & 3 & 1 & 5 & 3 & 6 & 1 & 4 & 2 & 2 & 2 & 2 & 3 & 3 & 4 & 3 & 3 & 3 & 3\\\\\n",
       "\t 6 & 22 & F & OTHER & 4 & 5 & 5 & 2 & 4 & 6 & 5 & 4 & 1 & 5 & 3 & 1 & 3 & 6 & 3 & 1 & 6 & 4 & 1 & 6 & 1 & 1 & 5 & 1 & 1 & 8 & 4 & 1 & 2 & 1 & 2 & 3 & 2 & 2 & 3 & 4 & 1\\\\\n",
       "\\end{tabular}\n"
      ],
      "text/markdown": [
       "\n",
       "A data.frame: 6 × 41\n",
       "\n",
       "| Subj &lt;int&gt; | Age &lt;int&gt; | Gender &lt;fct&gt; | Degree &lt;fct&gt; | Interest &lt;int&gt; | ATTN_TotalAttention &lt;int&gt; | ATTN_Focus &lt;int&gt; | ATTN_ThoughtAhead &lt;int&gt; | ATTN_AttentionCorrect &lt;int&gt; | TLX_Pace &lt;int&gt; | ⋯ ⋯ | p1 &lt;int&gt; | p2 &lt;int&gt; | p3 &lt;int&gt; | p4 &lt;int&gt; | p5 &lt;int&gt; | p6 &lt;int&gt; | p7 &lt;int&gt; | p8 &lt;int&gt; | p9 &lt;int&gt; | p10 &lt;int&gt; |\n",
       "|---|---|---|---|---|---|---|---|---|---|---|---|---|---|---|---|---|---|---|---|---|\n",
       "| 1 | 23 | M | BCSC  | 5 | 4 | 2 | 2 | 6 | 6 | ⋯ | 2 | 1 | 2 | 1 | 3 | 2 | 5 | 1 | 4 | 1 |\n",
       "| 2 | 24 | M | OTHER | 7 | 6 | 2 | 5 | 7 | 1 | ⋯ | 3 | 1 | 1 | 1 | 1 | 2 | 3 | 1 | 4 | 2 |\n",
       "| 3 | 21 | M | BCSC  | 5 | 6 | 6 | 4 | 5 | 6 | ⋯ | 4 | 2 | 1 | 1 | 3 | 1 | 2 | 3 | 2 | 1 |\n",
       "| 4 | 27 | M | BSC   | 5 | 6 | 4 | 3 | 5 | 5 | ⋯ | 2 | 1 | 3 | 4 | 1 | 3 | 2 | 4 | 3 | 2 |\n",
       "| 5 | 18 | M | BCSC  | 5 | 4 | 5 | 4 | 5 | 6 | ⋯ | 2 | 2 | 2 | 3 | 3 | 4 | 3 | 3 | 3 | 3 |\n",
       "| 6 | 22 | F | OTHER | 4 | 5 | 5 | 2 | 4 | 6 | ⋯ | 1 | 2 | 1 | 2 | 3 | 2 | 2 | 3 | 4 | 1 |\n",
       "\n"
      ],
      "text/plain": [
       "  Subj Age Gender Degree Interest ATTN_TotalAttention ATTN_Focus\n",
       "1 1    23  M      BCSC   5        4                   2         \n",
       "2 2    24  M      OTHER  7        6                   2         \n",
       "3 3    21  M      BCSC   5        6                   6         \n",
       "4 4    27  M      BSC    5        6                   4         \n",
       "5 5    18  M      BCSC   5        4                   5         \n",
       "6 6    22  F      OTHER  4        5                   5         \n",
       "  ATTN_ThoughtAhead ATTN_AttentionCorrect TLX_Pace ⋯ p1 p2 p3 p4 p5 p6 p7 p8 p9\n",
       "1 2                 6                     6        ⋯ 2  1  2  1  3  2  5  1  4 \n",
       "2 5                 7                     1        ⋯ 3  1  1  1  1  2  3  1  4 \n",
       "3 4                 5                     6        ⋯ 4  2  1  1  3  1  2  3  2 \n",
       "4 3                 5                     5        ⋯ 2  1  3  4  1  3  2  4  3 \n",
       "5 4                 5                     6        ⋯ 2  2  2  3  3  4  3  3  3 \n",
       "6 2                 4                     6        ⋯ 1  2  1  2  3  2  2  3  4 \n",
       "  p10\n",
       "1 1  \n",
       "2 2  \n",
       "3 1  \n",
       "4 2  \n",
       "5 3  \n",
       "6 1  "
      ]
     },
     "metadata": {},
     "output_type": "display_data"
    }
   ],
   "source": [
    "head(dat)"
   ]
  },
  {
   "cell_type": "markdown",
   "metadata": {},
   "source": [
    "### Save these for consistency check"
   ]
  },
  {
   "cell_type": "code",
   "execution_count": 8,
   "metadata": {},
   "outputs": [],
   "source": [
    "interest = dat[c(1)] # this is the control item\n",
    "\n",
    "attn = dat[c(6:9)] # this does not seem to come from the TLX and was mistakenly ascribed to it\n",
    "\n",
    "tlx = dat[c(10:15)] # the original TLX\n",
    "\n",
    "TU = dat[c(16:24)] # Sullivan technology unrelated MW \n",
    "\n",
    "TR = dat[c(24:29)]\n",
    "\n",
    "scores = dat[c(30:31)]\n",
    "\n",
    "exp = dat[c(32:41)]"
   ]
  },
  {
   "cell_type": "markdown",
   "metadata": {},
   "source": [
    "# Check measures using Cronbach's alpha for ATTN\n",
    "There is a clear attention measure related to TotalAttention and AttentionCorrect."
   ]
  },
  {
   "cell_type": "code",
   "execution_count": 9,
   "metadata": {},
   "outputs": [
    {
     "data": {
      "text/plain": [
       "Factor Analysis using method =  minres\n",
       "Call: fa(r = attn)\n",
       "Standardized loadings (pattern matrix) based upon correlation matrix\n",
       "                       MR1    h2   u2 com\n",
       "ATTN_TotalAttention   0.77 0.587 0.41   1\n",
       "ATTN_Focus            0.16 0.024 0.98   1\n",
       "ATTN_ThoughtAhead     0.27 0.073 0.93   1\n",
       "ATTN_AttentionCorrect 0.83 0.690 0.31   1\n",
       "\n",
       "                MR1\n",
       "SS loadings    1.37\n",
       "Proportion Var 0.34\n",
       "\n",
       "Mean item complexity =  1\n",
       "Test of the hypothesis that 1 factor is sufficient.\n",
       "\n",
       "The degrees of freedom for the null model are  6  and the objective function was  0.7 with Chi Square of  31.37\n",
       "The degrees of freedom for the model are 2  and the objective function was  0.1 \n",
       "\n",
       "The root mean square of the residuals (RMSR) is  0.08 \n",
       "The df corrected root mean square of the residuals is  0.13 \n",
       "\n",
       "The harmonic number of observations is  48 with the empirical chi square  3.27  with prob <  0.2 \n",
       "The total number of observations was  48  with Likelihood Chi Square =  4.28  with prob <  0.12 \n",
       "\n",
       "Tucker Lewis Index of factoring reliability =  0.725\n",
       "RMSEA index =  0.165  and the 90 % confidence intervals are  0 0.364\n",
       "BIC =  -3.46\n",
       "Fit based upon off diagonal values = 0.94\n",
       "Measures of factor score adequacy             \n",
       "                                                   MR1\n",
       "Correlation of (regression) scores with factors   0.89\n",
       "Multiple R square of scores with factors          0.79\n",
       "Minimum correlation of possible factor scores     0.58"
      ]
     },
     "metadata": {},
     "output_type": "display_data"
    }
   ],
   "source": [
    "fa(attn)"
   ]
  },
  {
   "cell_type": "markdown",
   "metadata": {},
   "source": [
    "# Check the measures using Cronbach's alpha for TLX\n",
    "The TLX seems to diverge between workload and success measures. "
   ]
  },
  {
   "cell_type": "code",
   "execution_count": 10,
   "metadata": {},
   "outputs": [
    {
     "name": "stderr",
     "output_type": "stream",
     "text": [
      "Warning message in alpha(tlx):\n",
      "“Some items were negatively correlated with the total scale and probably \n",
      "should be reversed.  \n",
      "To do this, run the function again with the 'check.keys=TRUE' option”"
     ]
    },
    {
     "name": "stdout",
     "output_type": "stream",
     "text": [
      "Some items ( TLX_Success ) were negatively correlated with the total scale and \n",
      "probably should be reversed.  \n",
      "To do this, run the function again with the 'check.keys=TRUE' option"
     ]
    },
    {
     "data": {
      "text/plain": [
       "\n",
       "Reliability analysis   \n",
       "Call: alpha(x = tlx)\n",
       "\n",
       "  raw_alpha std.alpha G6(smc) average_r  S/N  ase mean   sd median_r\n",
       "      0.26      0.22    0.42     0.044 0.28 0.16  3.5 0.69     0.12\n",
       "\n",
       " lower alpha upper     95% confidence boundaries\n",
       "-0.05 0.26 0.57 \n",
       "\n",
       " Reliability if an item is dropped:\n",
       "                        raw_alpha std.alpha G6(smc) average_r    S/N alpha se\n",
       "TLX_Pace                    0.267     0.206    0.44    0.0495  0.260     0.15\n",
       "TLX_Success                 0.516     0.538    0.55    0.1887  1.163     0.11\n",
       "TLX_WorkedHard              0.086     0.022    0.19    0.0045  0.023     0.20\n",
       "TLX_DiscouragedAnnoyed      0.178     0.140    0.31    0.0316  0.163     0.18\n",
       "TLX_MentallyDemanding      -0.049    -0.145    0.14   -0.0261 -0.127     0.22\n",
       "TLX_PhysicallyDemanding     0.125     0.076    0.33    0.0161  0.082     0.19\n",
       "                        var.r   med.r\n",
       "TLX_Pace                0.120  0.1434\n",
       "TLX_Success             0.035  0.1640\n",
       "TLX_WorkedHard          0.059 -0.0061\n",
       "TLX_DiscouragedAnnoyed  0.068  0.0608\n",
       "TLX_MentallyDemanding   0.088 -0.0061\n",
       "TLX_PhysicallyDemanding 0.102  0.0608\n",
       "\n",
       " Item statistics \n",
       "                         n raw.r  std.r r.cor r.drop mean  sd\n",
       "TLX_Pace                48  0.46  0.431  0.13  0.062  3.1 1.7\n",
       "TLX_Success             48 -0.11 -0.084 -0.49 -0.396  4.1 1.3\n",
       "TLX_WorkedHard          48  0.58  0.597  0.61  0.297  4.3 1.3\n",
       "TLX_DiscouragedAnnoyed  48  0.50  0.497  0.40  0.168  2.8 1.5\n",
       "TLX_MentallyDemanding   48  0.69  0.710  0.71  0.416  4.1 1.5\n",
       "TLX_PhysicallyDemanding 48  0.59  0.554  0.38  0.216  2.4 1.7\n",
       "\n",
       "Non missing response frequency for each item\n",
       "                           1    2    3    4    5    6    7 miss\n",
       "TLX_Pace                0.19 0.21 0.29 0.06 0.10 0.15 0.00    0\n",
       "TLX_Success             0.02 0.12 0.15 0.31 0.25 0.15 0.00    0\n",
       "TLX_WorkedHard          0.04 0.08 0.08 0.29 0.35 0.12 0.02    0\n",
       "TLX_DiscouragedAnnoyed  0.25 0.27 0.12 0.21 0.12 0.02 0.00    0\n",
       "TLX_MentallyDemanding   0.02 0.15 0.17 0.25 0.23 0.12 0.06    0\n",
       "TLX_PhysicallyDemanding 0.46 0.17 0.17 0.04 0.10 0.04 0.02    0"
      ]
     },
     "metadata": {},
     "output_type": "display_data"
    }
   ],
   "source": [
    "alpha(tlx)"
   ]
  },
  {
   "cell_type": "code",
   "execution_count": 11,
   "metadata": {},
   "outputs": [
    {
     "data": {
      "text/plain": [
       "Factor Analysis using method =  minres\n",
       "Call: fa(r = tlx, check.keys = TRUE)\n",
       "Standardized loadings (pattern matrix) based upon correlation matrix\n",
       "                          MR1     h2   u2 com\n",
       "TLX_Pace                 0.05 0.0026 1.00   1\n",
       "TLX_Success             -0.61 0.3713 0.63   1\n",
       "TLX_WorkedHard           0.72 0.5152 0.48   1\n",
       "TLX_DiscouragedAnnoyed   0.62 0.3787 0.62   1\n",
       "TLX_MentallyDemanding    0.44 0.1908 0.81   1\n",
       "TLX_PhysicallyDemanding  0.36 0.1309 0.87   1\n",
       "\n",
       "                MR1\n",
       "SS loadings    1.59\n",
       "Proportion Var 0.26\n",
       "\n",
       "Mean item complexity =  1\n",
       "Test of the hypothesis that 1 factor is sufficient.\n",
       "\n",
       "The degrees of freedom for the null model are  15  and the objective function was  1.13 with Chi Square of  49.75\n",
       "The degrees of freedom for the model are 9  and the objective function was  0.41 \n",
       "\n",
       "The root mean square of the residuals (RMSR) is  0.12 \n",
       "The df corrected root mean square of the residuals is  0.15 \n",
       "\n",
       "The harmonic number of observations is  48 with the empirical chi square  19.1  with prob <  0.024 \n",
       "The total number of observations was  48  with Likelihood Chi Square =  17.67  with prob <  0.039 \n",
       "\n",
       "Tucker Lewis Index of factoring reliability =  0.575\n",
       "RMSEA index =  0.154  and the 90 % confidence intervals are  0.031 0.242\n",
       "BIC =  -17.17\n",
       "Fit based upon off diagonal values = 0.83\n",
       "Measures of factor score adequacy             \n",
       "                                                   MR1\n",
       "Correlation of (regression) scores with factors   0.85\n",
       "Multiple R square of scores with factors          0.73\n",
       "Minimum correlation of possible factor scores     0.46"
      ]
     },
     "metadata": {},
     "output_type": "display_data"
    }
   ],
   "source": [
    "fa(tlx, check.keys=TRUE) # factor analysis"
   ]
  },
  {
   "cell_type": "markdown",
   "metadata": {},
   "source": [
    "# A new attention measure\n",
    "This combines attention factors that were described in the experiement. These three measures are correlated and related."
   ]
  },
  {
   "cell_type": "code",
   "execution_count": 13,
   "metadata": {},
   "outputs": [
    {
     "data": {
      "text/plain": [
       "\n",
       "Reliability analysis   \n",
       "Call: alpha(x = attn_new)\n",
       "\n",
       "  raw_alpha std.alpha G6(smc) average_r S/N   ase mean  sd median_r\n",
       "      0.86      0.87    0.82      0.68 6.5 0.034  4.4 1.2     0.64\n",
       "\n",
       " lower alpha upper     95% confidence boundaries\n",
       "0.8 0.86 0.93 \n",
       "\n",
       " Reliability if an item is dropped:\n",
       "                      raw_alpha std.alpha G6(smc) average_r S/N alpha se var.r\n",
       "ATTN_TotalAttention        0.78      0.78    0.64      0.64 3.6    0.063    NA\n",
       "ATTN_AttentionCorrect      0.86      0.87    0.77      0.77 6.5    0.039    NA\n",
       "TLX_Success                0.78      0.78    0.64      0.64 3.6    0.063    NA\n",
       "                      med.r\n",
       "ATTN_TotalAttention    0.64\n",
       "ATTN_AttentionCorrect  0.77\n",
       "TLX_Success            0.64\n",
       "\n",
       " Item statistics \n",
       "                       n raw.r std.r r.cor r.drop mean  sd\n",
       "ATTN_TotalAttention   48  0.91  0.90  0.84   0.77  4.3 1.4\n",
       "ATTN_AttentionCorrect 48  0.86  0.86  0.73   0.68  4.9 1.4\n",
       "TLX_Success           48  0.90  0.90  0.84   0.78  4.1 1.3\n",
       "\n",
       "Non missing response frequency for each item\n",
       "                         1    2    3    4    5    6    7 miss\n",
       "ATTN_TotalAttention   0.04 0.06 0.17 0.27 0.23 0.19 0.04    0\n",
       "ATTN_AttentionCorrect 0.00 0.06 0.10 0.19 0.29 0.23 0.12    0\n",
       "TLX_Success           0.02 0.12 0.15 0.31 0.25 0.15 0.00    0"
      ]
     },
     "metadata": {},
     "output_type": "display_data"
    }
   ],
   "source": [
    "attn_new = dat[c(6,9,11)]\n",
    "alpha(attn_new)"
   ]
  },
  {
   "cell_type": "markdown",
   "metadata": {},
   "source": [
    "## Consistency checks on TR and TU\n",
    "These both look fine."
   ]
  },
  {
   "cell_type": "code",
   "execution_count": 14,
   "metadata": {},
   "outputs": [
    {
     "data": {
      "text/plain": [
       "Factor Analysis using method =  minres\n",
       "Call: fa(r = TR)\n",
       "Standardized loadings (pattern matrix) based upon correlation matrix\n",
       "                MR1    h2   u2 com\n",
       "TU_Future      0.16 0.026 0.97   1\n",
       "TR_Email       0.68 0.457 0.54   1\n",
       "TR_SocialMedia 0.83 0.682 0.32   1\n",
       "TR_Browsing    0.76 0.580 0.42   1\n",
       "TR_Phone       0.77 0.586 0.41   1\n",
       "TR_Online      0.78 0.605 0.39   1\n",
       "\n",
       "                MR1\n",
       "SS loadings    2.94\n",
       "Proportion Var 0.49\n",
       "\n",
       "Mean item complexity =  1\n",
       "Test of the hypothesis that 1 factor is sufficient.\n",
       "\n",
       "The degrees of freedom for the null model are  15  and the objective function was  2.51 with Chi Square of  110.77\n",
       "The degrees of freedom for the model are 9  and the objective function was  0.16 \n",
       "\n",
       "The root mean square of the residuals (RMSR) is  0.06 \n",
       "The df corrected root mean square of the residuals is  0.07 \n",
       "\n",
       "The harmonic number of observations is  48 with the empirical chi square  4.55  with prob <  0.87 \n",
       "The total number of observations was  48  with Likelihood Chi Square =  7.11  with prob <  0.63 \n",
       "\n",
       "Tucker Lewis Index of factoring reliability =  1.034\n",
       "RMSEA index =  0  and the 90 % confidence intervals are  0 0.138\n",
       "BIC =  -27.74\n",
       "Fit based upon off diagonal values = 0.99\n",
       "Measures of factor score adequacy             \n",
       "                                                   MR1\n",
       "Correlation of (regression) scores with factors   0.94\n",
       "Multiple R square of scores with factors          0.88\n",
       "Minimum correlation of possible factor scores     0.76"
      ]
     },
     "metadata": {},
     "output_type": "display_data"
    }
   ],
   "source": [
    "fa(TR)"
   ]
  },
  {
   "cell_type": "code",
   "execution_count": 15,
   "metadata": {},
   "outputs": [
    {
     "data": {
      "text/plain": [
       "Factor Analysis using method =  minres\n",
       "Call: fa(r = TU)\n",
       "Standardized loadings (pattern matrix) based upon correlation matrix\n",
       "             MR1   h2   u2 com\n",
       "TU_Family   0.70 0.49 0.51   1\n",
       "TU_Friends  0.78 0.60 0.40   1\n",
       "TU_Guilty   0.65 0.43 0.57   1\n",
       "TU_Personal 0.76 0.57 0.43   1\n",
       "TU_Angry    0.57 0.33 0.67   1\n",
       "TU_Earlier  0.53 0.28 0.72   1\n",
       "TU_RPast    0.84 0.70 0.30   1\n",
       "TU_DPast    0.51 0.26 0.74   1\n",
       "TU_Future   0.44 0.19 0.81   1\n",
       "\n",
       "                MR1\n",
       "SS loadings    3.86\n",
       "Proportion Var 0.43\n",
       "\n",
       "Mean item complexity =  1\n",
       "Test of the hypothesis that 1 factor is sufficient.\n",
       "\n",
       "The degrees of freedom for the null model are  36  and the objective function was  4.26 with Chi Square of  183.97\n",
       "The degrees of freedom for the model are 27  and the objective function was  1.05 \n",
       "\n",
       "The root mean square of the residuals (RMSR) is  0.1 \n",
       "The df corrected root mean square of the residuals is  0.11 \n",
       "\n",
       "The harmonic number of observations is  48 with the empirical chi square  32.88  with prob <  0.2 \n",
       "The total number of observations was  48  with Likelihood Chi Square =  44.61  with prob <  0.018 \n",
       "\n",
       "Tucker Lewis Index of factoring reliability =  0.838\n",
       "RMSEA index =  0.133  and the 90 % confidence intervals are  0.049 0.178\n",
       "BIC =  -59.92\n",
       "Fit based upon off diagonal values = 0.95\n",
       "Measures of factor score adequacy             \n",
       "                                                   MR1\n",
       "Correlation of (regression) scores with factors   0.95\n",
       "Multiple R square of scores with factors          0.90\n",
       "Minimum correlation of possible factor scores     0.79"
      ]
     },
     "metadata": {},
     "output_type": "display_data"
    }
   ],
   "source": [
    "fa(TU)"
   ]
  },
  {
   "cell_type": "markdown",
   "metadata": {},
   "source": [
    "# Calculate measures in a new dataframe"
   ]
  },
  {
   "cell_type": "code",
   "execution_count": 16,
   "metadata": {},
   "outputs": [
    {
     "name": "stderr",
     "output_type": "stream",
     "text": [
      "\n",
      "Attaching package: ‘ggplot2’\n",
      "\n",
      "The following objects are masked from ‘package:psych’:\n",
      "\n",
      "    %+%, alpha\n",
      "\n",
      "Loading required package: nlme\n",
      "This is mgcv 1.8-29. For overview type 'help(\"mgcv-package\")'.\n",
      "Loading required package: viridisLite\n"
     ]
    }
   ],
   "source": [
    "library(ggplot2)\n",
    "# library(LMERConvenienceFunctions)\n",
    "library(mgcv)\n",
    "library(parallel)\n",
    "library(plyr)\n",
    "library(tidyr)\n",
    "library(data.table)\n",
    "library(viridis)\n",
    "library(ggthemes)\n",
    "library(nlme)"
   ]
  },
  {
   "cell_type": "code",
   "execution_count": 17,
   "metadata": {},
   "outputs": [],
   "source": [
    "ATs = rowSums(attn_new)\n",
    "TRs = rowSums(TR) \n",
    "TUs = rowSums(TU) \n",
    "TL = rowSums(tlx)\n",
    "Diffs = scores$Post_Score - scores$Pre_Score\n",
    "EX = rowSums(exp)/10"
   ]
  },
  {
   "cell_type": "code",
   "execution_count": 18,
   "metadata": {},
   "outputs": [],
   "source": [
    "ndat = dat[c(1:5)]\n",
    "ndat$Attn = ATs\n",
    "ndat$TRMW = TRs\n",
    "ndat$TUMW = TUs\n",
    "ndat$Diff = Diffs\n",
    "ndat$TLX = TL # this is for sanity's sake\n",
    "ndat$EX = EX"
   ]
  },
  {
   "cell_type": "code",
   "execution_count": 19,
   "metadata": {},
   "outputs": [
    {
     "data": {
      "text/html": [
       "<table>\n",
       "<caption>A data.frame: 6 × 11</caption>\n",
       "<thead>\n",
       "\t<tr><th scope=col>Subj</th><th scope=col>Age</th><th scope=col>Gender</th><th scope=col>Degree</th><th scope=col>Interest</th><th scope=col>Attn</th><th scope=col>TRMW</th><th scope=col>TUMW</th><th scope=col>Diff</th><th scope=col>TLX</th><th scope=col>EX</th></tr>\n",
       "\t<tr><th scope=col>&lt;int&gt;</th><th scope=col>&lt;int&gt;</th><th scope=col>&lt;fct&gt;</th><th scope=col>&lt;fct&gt;</th><th scope=col>&lt;int&gt;</th><th scope=col>&lt;dbl&gt;</th><th scope=col>&lt;dbl&gt;</th><th scope=col>&lt;dbl&gt;</th><th scope=col>&lt;int&gt;</th><th scope=col>&lt;dbl&gt;</th><th scope=col>&lt;dbl&gt;</th></tr>\n",
       "</thead>\n",
       "<tbody>\n",
       "\t<tr><td>1</td><td>23</td><td>M</td><td>BCSC </td><td>5</td><td>15</td><td>11</td><td> 9</td><td> 6</td><td>27</td><td>2.2</td></tr>\n",
       "\t<tr><td>2</td><td>24</td><td>M</td><td>OTHER</td><td>7</td><td>17</td><td>15</td><td>20</td><td> 0</td><td>11</td><td>1.9</td></tr>\n",
       "\t<tr><td>3</td><td>21</td><td>M</td><td>BCSC </td><td>5</td><td>16</td><td>11</td><td>31</td><td> 2</td><td>24</td><td>2.0</td></tr>\n",
       "\t<tr><td>4</td><td>27</td><td>M</td><td>BSC  </td><td>5</td><td>17</td><td>31</td><td>23</td><td> 2</td><td>27</td><td>2.5</td></tr>\n",
       "\t<tr><td>5</td><td>18</td><td>M</td><td>BCSC </td><td>5</td><td>12</td><td>19</td><td>23</td><td>-2</td><td>19</td><td>2.8</td></tr>\n",
       "\t<tr><td>6</td><td>22</td><td>F</td><td>OTHER</td><td>4</td><td>14</td><td>15</td><td>31</td><td>-4</td><td>24</td><td>2.1</td></tr>\n",
       "</tbody>\n",
       "</table>\n"
      ],
      "text/latex": [
       "A data.frame: 6 × 11\n",
       "\\begin{tabular}{r|lllllllllll}\n",
       " Subj & Age & Gender & Degree & Interest & Attn & TRMW & TUMW & Diff & TLX & EX\\\\\n",
       " <int> & <int> & <fct> & <fct> & <int> & <dbl> & <dbl> & <dbl> & <int> & <dbl> & <dbl>\\\\\n",
       "\\hline\n",
       "\t 1 & 23 & M & BCSC  & 5 & 15 & 11 &  9 &  6 & 27 & 2.2\\\\\n",
       "\t 2 & 24 & M & OTHER & 7 & 17 & 15 & 20 &  0 & 11 & 1.9\\\\\n",
       "\t 3 & 21 & M & BCSC  & 5 & 16 & 11 & 31 &  2 & 24 & 2.0\\\\\n",
       "\t 4 & 27 & M & BSC   & 5 & 17 & 31 & 23 &  2 & 27 & 2.5\\\\\n",
       "\t 5 & 18 & M & BCSC  & 5 & 12 & 19 & 23 & -2 & 19 & 2.8\\\\\n",
       "\t 6 & 22 & F & OTHER & 4 & 14 & 15 & 31 & -4 & 24 & 2.1\\\\\n",
       "\\end{tabular}\n"
      ],
      "text/markdown": [
       "\n",
       "A data.frame: 6 × 11\n",
       "\n",
       "| Subj &lt;int&gt; | Age &lt;int&gt; | Gender &lt;fct&gt; | Degree &lt;fct&gt; | Interest &lt;int&gt; | Attn &lt;dbl&gt; | TRMW &lt;dbl&gt; | TUMW &lt;dbl&gt; | Diff &lt;int&gt; | TLX &lt;dbl&gt; | EX &lt;dbl&gt; |\n",
       "|---|---|---|---|---|---|---|---|---|---|---|\n",
       "| 1 | 23 | M | BCSC  | 5 | 15 | 11 |  9 |  6 | 27 | 2.2 |\n",
       "| 2 | 24 | M | OTHER | 7 | 17 | 15 | 20 |  0 | 11 | 1.9 |\n",
       "| 3 | 21 | M | BCSC  | 5 | 16 | 11 | 31 |  2 | 24 | 2.0 |\n",
       "| 4 | 27 | M | BSC   | 5 | 17 | 31 | 23 |  2 | 27 | 2.5 |\n",
       "| 5 | 18 | M | BCSC  | 5 | 12 | 19 | 23 | -2 | 19 | 2.8 |\n",
       "| 6 | 22 | F | OTHER | 4 | 14 | 15 | 31 | -4 | 24 | 2.1 |\n",
       "\n"
      ],
      "text/plain": [
       "  Subj Age Gender Degree Interest Attn TRMW TUMW Diff TLX EX \n",
       "1 1    23  M      BCSC   5        15   11    9    6   27  2.2\n",
       "2 2    24  M      OTHER  7        17   15   20    0   11  1.9\n",
       "3 3    21  M      BCSC   5        16   11   31    2   24  2.0\n",
       "4 4    27  M      BSC    5        17   31   23    2   27  2.5\n",
       "5 5    18  M      BCSC   5        12   19   23   -2   19  2.8\n",
       "6 6    22  F      OTHER  4        14   15   31   -4   24  2.1"
      ]
     },
     "metadata": {},
     "output_type": "display_data"
    }
   ],
   "source": [
    "head(ndat)"
   ]
  },
  {
   "cell_type": "markdown",
   "metadata": {},
   "source": [
    "# H1 - Mind wandering and attention negatively impacts scores"
   ]
  },
  {
   "cell_type": "code",
   "execution_count": 21,
   "metadata": {},
   "outputs": [
    {
     "data": {
      "text/plain": [
       "Call:\n",
       "   aov(formula = h1)\n",
       "\n",
       "Terms:\n",
       "                     Attn Residuals\n",
       "Sum of Squares   34.30098 250.17819\n",
       "Deg. of Freedom         1        46\n",
       "\n",
       "Residual standard error: 2.332093\n",
       "Estimated effects may be unbalanced"
      ]
     },
     "metadata": {},
     "output_type": "display_data"
    },
    {
     "data": {
      "text/plain": [
       "\n",
       "Call:\n",
       "lm(formula = Diff ~ Attn, data = ndat)\n",
       "\n",
       "Residuals:\n",
       "    Min      1Q  Median      3Q     Max \n",
       "-6.0606 -1.5954  0.0557  1.3525  5.4046 \n",
       "\n",
       "Coefficients:\n",
       "            Estimate Std. Error t value Pr(>|t|)  \n",
       "(Intercept) -1.19600    1.27633  -0.937   0.3536  \n",
       "Attn         0.23261    0.09263   2.511   0.0156 *\n",
       "---\n",
       "Signif. codes:  0 ‘***’ 0.001 ‘**’ 0.01 ‘*’ 0.05 ‘.’ 0.1 ‘ ’ 1\n",
       "\n",
       "Residual standard error: 2.332 on 46 degrees of freedom\n",
       "Multiple R-squared:  0.1206,\tAdjusted R-squared:  0.1015 \n",
       "F-statistic: 6.307 on 1 and 46 DF,  p-value: 0.0156\n"
      ]
     },
     "metadata": {},
     "output_type": "display_data"
    }
   ],
   "source": [
    "h1 <- lm(Diff ~ Attn, data=ndat)\n",
    "aov(h1)\n",
    "summary(h1)"
   ]
  },
  {
   "cell_type": "code",
   "execution_count": 20,
   "metadata": {},
   "outputs": [
    {
     "data": {
      "text/plain": [
       "Call:\n",
       "   aov(formula = h1)\n",
       "\n",
       "Terms:\n",
       "                       EX Residuals\n",
       "Sum of Squares   28.12815 256.35101\n",
       "Deg. of Freedom         1        46\n",
       "\n",
       "Residual standard error: 2.360688\n",
       "Estimated effects may be unbalanced"
      ]
     },
     "metadata": {},
     "output_type": "display_data"
    },
    {
     "data": {
      "text/plain": [
       "\n",
       "Call:\n",
       "lm(formula = Diff ~ EX, data = ndat)\n",
       "\n",
       "Residuals:\n",
       "    Min      1Q  Median      3Q     Max \n",
       "-6.3772 -1.3172 -0.2878  1.3738  5.4480 \n",
       "\n",
       "Coefficients:\n",
       "            Estimate Std. Error t value Pr(>|t|)    \n",
       "(Intercept)   4.8531     1.3597   3.569 0.000851 ***\n",
       "EX           -1.1790     0.5248  -2.247 0.029506 *  \n",
       "---\n",
       "Signif. codes:  0 ‘***’ 0.001 ‘**’ 0.01 ‘*’ 0.05 ‘.’ 0.1 ‘ ’ 1\n",
       "\n",
       "Residual standard error: 2.361 on 46 degrees of freedom\n",
       "Multiple R-squared:  0.09888,\tAdjusted R-squared:  0.07929 \n",
       "F-statistic: 5.047 on 1 and 46 DF,  p-value: 0.02951\n"
      ]
     },
     "metadata": {},
     "output_type": "display_data"
    }
   ],
   "source": [
    "h1 <- lm(Diff ~ EX, data=ndat)\n",
    "aov(h1)\n",
    "summary(h1)"
   ]
  },
  {
   "cell_type": "code",
   "execution_count": 35,
   "metadata": {},
   "outputs": [
    {
     "data": {
      "image/png": "[encoded data removed]",
      "text/plain": [
       "plot without title"
      ]
     },
     "metadata": {},
     "output_type": "display_data"
    }
   ],
   "source": [
    "plot <- ggplot(ndat, aes(Diff, Attn + TUMW)) + \n",
    "               geom_point(aes(), size = 1.5) + \n",
    "               geom_smooth(colour=\"black\", method = 'lm', se=T, size = 0.5)\n",
    "\n",
    "plot"
   ]
  },
  {
   "cell_type": "markdown",
   "metadata": {},
   "source": [
    "# H2 - MW varieties were correlated and were experienced differently by different people"
   ]
  },
  {
   "cell_type": "code",
   "execution_count": 20,
   "metadata": {},
   "outputs": [
    {
     "data": {
      "text/plain": [
       "Call:\n",
       "   aov(formula = h2)\n",
       "\n",
       "Terms:\n",
       "                     TUMW Residuals\n",
       "Sum of Squares   934.7935 2313.1232\n",
       "Deg. of Freedom         1        46\n",
       "\n",
       "Residual standard error: 7.091212\n",
       "Estimated effects may be unbalanced"
      ]
     },
     "metadata": {},
     "output_type": "display_data"
    },
    {
     "data": {
      "text/plain": [
       "\n",
       "Call:\n",
       "lm(formula = TRMW ~ TUMW, data = ndat)\n",
       "\n",
       "Residuals:\n",
       "    Min      1Q  Median      3Q     Max \n",
       "-9.7292 -5.6457 -0.8443  3.6914 21.2708 \n",
       "\n",
       "Coefficients:\n",
       "            Estimate Std. Error t value Pr(>|t|)    \n",
       "(Intercept)  8.02663    2.68054   2.994  0.00442 ** \n",
       "TUMW         0.38493    0.08928   4.312 8.48e-05 ***\n",
       "---\n",
       "Signif. codes:  0 ‘***’ 0.001 ‘**’ 0.01 ‘*’ 0.05 ‘.’ 0.1 ‘ ’ 1\n",
       "\n",
       "Residual standard error: 7.091 on 46 degrees of freedom\n",
       "Multiple R-squared:  0.2878,\tAdjusted R-squared:  0.2723 \n",
       "F-statistic: 18.59 on 1 and 46 DF,  p-value: 8.476e-05\n"
      ]
     },
     "metadata": {},
     "output_type": "display_data"
    }
   ],
   "source": [
    "h2 <- lm(TRMW ~ TUMW, data=ndat)\n",
    "aov(h2)\n",
    "summary(h2)"
   ]
  },
  {
   "cell_type": "code",
   "execution_count": 75,
   "metadata": {},
   "outputs": [
    {
     "data": {
      "text/plain": [
       "Call:\n",
       "   aov(formula = h2a)\n",
       "\n",
       "Terms:\n",
       "                   Degree    Gender       Age Residuals\n",
       "Sum of Squares   891.0603   56.9055  189.5601 2110.3907\n",
       "Deg. of Freedom         6         1         1        39\n",
       "\n",
       "Residual standard error: 7.356125\n",
       "Estimated effects may be unbalanced"
      ]
     },
     "metadata": {},
     "output_type": "display_data"
    },
    {
     "data": {
      "text/plain": [
       "\n",
       "Call:\n",
       "lm(formula = TRMW ~ Degree + Gender + Age, data = ndat)\n",
       "\n",
       "Residuals:\n",
       "     Min       1Q   Median       3Q      Max \n",
       "-14.0258  -3.9476  -0.0762   4.8898  16.0585 \n",
       "\n",
       "Coefficients:\n",
       "            Estimate Std. Error t value Pr(>|t|)  \n",
       "(Intercept)  -5.4393    10.4387  -0.521   0.6053  \n",
       "DegreeBACS    1.0844     7.3724   0.147   0.8838  \n",
       "DegreeBCOMM   8.3274     6.7838   1.228   0.2270  \n",
       "DegreeBCSC    2.6354     6.7640   0.390   0.6989  \n",
       "DegreeBMGMT   7.4578     7.3602   1.013   0.3172  \n",
       "DegreeBSC     9.2367     5.5070   1.677   0.1015  \n",
       "DegreeOTHER  -1.4781     6.4415  -0.229   0.8197  \n",
       "GenderM      -4.0245     2.8208  -1.427   0.1616  \n",
       "Age           0.9156     0.4892   1.872   0.0688 .\n",
       "---\n",
       "Signif. codes:  0 ‘***’ 0.001 ‘**’ 0.01 ‘*’ 0.05 ‘.’ 0.1 ‘ ’ 1\n",
       "\n",
       "Residual standard error: 7.356 on 39 degrees of freedom\n",
       "Multiple R-squared:  0.3502,\tAdjusted R-squared:  0.2169 \n",
       "F-statistic: 2.628 on 8 and 39 DF,  p-value: 0.02096\n"
      ]
     },
     "metadata": {},
     "output_type": "display_data"
    }
   ],
   "source": [
    "h2a <- lm(TRMW ~ Degree + Gender + Age, data=ndat)\n",
    "aov(h2a)\n",
    "summary(h2a)"
   ]
  },
  {
   "cell_type": "code",
   "execution_count": 21,
   "metadata": {},
   "outputs": [
    {
     "data": {
      "text/plain": [
       "Call:\n",
       "   aov(formula = h2b)\n",
       "\n",
       "Terms:\n",
       "                  Degree   Gender      Age Residuals\n",
       "Sum of Squares  1962.200  839.034    3.559  3504.206\n",
       "Deg. of Freedom        6        1        1        39\n",
       "\n",
       "Residual standard error: 9.479\n",
       "Estimated effects may be unbalanced"
      ]
     },
     "metadata": {},
     "output_type": "display_data"
    },
    {
     "data": {
      "text/plain": [
       "\n",
       "Call:\n",
       "lm(formula = TUMW ~ Degree + Gender + Age, data = ndat)\n",
       "\n",
       "Residuals:\n",
       "     Min       1Q   Median       3Q      Max \n",
       "-16.7992  -5.8813  -0.6322   6.0613  20.3263 \n",
       "\n",
       "Coefficients:\n",
       "            Estimate Std. Error t value Pr(>|t|)   \n",
       "(Intercept)  33.3212    13.4512   2.477  0.01768 * \n",
       "DegreeBACS   -4.8745     9.4999  -0.513  0.61077   \n",
       "DegreeBCOMM -10.4720     8.7415  -1.198  0.23816   \n",
       "DegreeBCSC   -2.0396     8.7160  -0.234  0.81620   \n",
       "DegreeBMGMT  10.9373     9.4842   1.153  0.25585   \n",
       "DegreeBSC     2.8619     7.0963   0.403  0.68893   \n",
       "DegreeOTHER  -7.4771     8.3005  -0.901  0.37322   \n",
       "GenderM     -10.6467     3.6348  -2.929  0.00565 **\n",
       "Age          -0.1255     0.6304  -0.199  0.84327   \n",
       "---\n",
       "Signif. codes:  0 ‘***’ 0.001 ‘**’ 0.01 ‘*’ 0.05 ‘.’ 0.1 ‘ ’ 1\n",
       "\n",
       "Residual standard error: 9.479 on 39 degrees of freedom\n",
       "Multiple R-squared:  0.4446,\tAdjusted R-squared:  0.3306 \n",
       "F-statistic: 3.902 on 8 and 39 DF,  p-value: 0.001834\n"
      ]
     },
     "metadata": {},
     "output_type": "display_data"
    }
   ],
   "source": [
    "h2b <- lm(TUMW ~ Degree + Gender + Age, data=ndat)\n",
    "aov(h2b)\n",
    "summary(h2b)"
   ]
  },
  {
   "cell_type": "markdown",
   "metadata": {},
   "source": [
    "# H3 - There is consistency between the measures"
   ]
  },
  {
   "cell_type": "code",
   "execution_count": 22,
   "metadata": {},
   "outputs": [
    {
     "data": {
      "text/plain": [
       "Call:\n",
       "   aov(formula = H3)\n",
       "\n",
       "Terms:\n",
       "                     TUMW      TRMW Residuals\n",
       "Sum of Squares   2.935998  0.880435 16.420234\n",
       "Deg. of Freedom         1         1        45\n",
       "\n",
       "Residual standard error: 0.6040646\n",
       "Estimated effects may be unbalanced"
      ]
     },
     "metadata": {},
     "output_type": "display_data"
    },
    {
     "data": {
      "text/plain": [
       "\n",
       "Call:\n",
       "lm(formula = EX ~ TUMW + TRMW, data = ndat)\n",
       "\n",
       "Residuals:\n",
       "     Min       1Q   Median       3Q      Max \n",
       "-1.03657 -0.44217 -0.02529  0.51050  0.95911 \n",
       "\n",
       "Coefficients:\n",
       "            Estimate Std. Error t value Pr(>|t|)    \n",
       "(Intercept) 1.753104   0.249607   7.023 9.41e-09 ***\n",
       "TUMW        0.014063   0.009012   1.560    0.126    \n",
       "TRMW        0.019510   0.012560   1.553    0.127    \n",
       "---\n",
       "Signif. codes:  0 ‘***’ 0.001 ‘**’ 0.01 ‘*’ 0.05 ‘.’ 0.1 ‘ ’ 1\n",
       "\n",
       "Residual standard error: 0.6041 on 45 degrees of freedom\n",
       "Multiple R-squared:  0.1886,\tAdjusted R-squared:  0.1525 \n",
       "F-statistic:  5.23 on 2 and 45 DF,  p-value: 0.009076\n"
      ]
     },
     "metadata": {},
     "output_type": "display_data"
    }
   ],
   "source": [
    "H3 <- lm(EX ~ TUMW + TRMW, data=ndat)\n",
    "aov(H3)\n",
    "summary(H3)"
   ]
  },
  {
   "cell_type": "markdown",
   "metadata": {},
   "source": [
    "## H4 - Who is interested in the subject?"
   ]
  },
  {
   "cell_type": "code",
   "execution_count": 23,
   "metadata": {},
   "outputs": [
    {
     "data": {
      "text/plain": [
       "Call:\n",
       "   aov(formula = h3)\n",
       "\n",
       "Terms:\n",
       "                  Gender   Degree Residuals\n",
       "Sum of Squares  19.34697 47.99899  57.90404\n",
       "Deg. of Freedom        1        6        40\n",
       "\n",
       "Residual standard error: 1.203163\n",
       "Estimated effects may be unbalanced"
      ]
     },
     "metadata": {},
     "output_type": "display_data"
    },
    {
     "data": {
      "text/plain": [
       "\n",
       "Call:\n",
       "lm(formula = Interest ~ Gender + Degree, data = ndat)\n",
       "\n",
       "Residuals:\n",
       "    Min      1Q  Median      3Q     Max \n",
       "-2.1614 -0.7847 -0.1614  0.6973  2.8386 \n",
       "\n",
       "Coefficients:\n",
       "            Estimate Std. Error t value Pr(>|t|)    \n",
       "(Intercept)   3.5000     0.8508   4.114 0.000188 ***\n",
       "GenderM       1.1883     0.4491   2.646 0.011589 *  \n",
       "DegreeBACS    3.0000     1.2032   2.493 0.016888 *  \n",
       "DegreeBCOMM  -0.5628     1.1085  -0.508 0.614451    \n",
       "DegreeBCSC    0.9117     1.1023   0.827 0.413106    \n",
       "DegreeBMGMT   1.5000     1.2032   1.247 0.219754    \n",
       "DegreeBSC    -0.3386     0.8863  -0.382 0.704474    \n",
       "DegreeOTHER   2.0247     1.0225   1.980 0.054609 .  \n",
       "---\n",
       "Signif. codes:  0 ‘***’ 0.001 ‘**’ 0.01 ‘*’ 0.05 ‘.’ 0.1 ‘ ’ 1\n",
       "\n",
       "Residual standard error: 1.203 on 40 degrees of freedom\n",
       "Multiple R-squared:  0.5377,\tAdjusted R-squared:  0.4568 \n",
       "F-statistic: 6.646 on 7 and 40 DF,  p-value: 3.099e-05\n"
      ]
     },
     "metadata": {},
     "output_type": "display_data"
    }
   ],
   "source": [
    "h3 <- lm(Interest ~ Gender + Degree, data=ndat)\n",
    "aov(h3)\n",
    "summary(h3)"
   ]
  },
  {
   "cell_type": "code",
   "execution_count": 50,
   "metadata": {},
   "outputs": [],
   "source": [
    "write.csv(ndat, 'survey_aggregated.csv')"
   ]
  },
  {
   "cell_type": "code",
   "execution_count": 23,
   "metadata": {},
   "outputs": [
    {
     "data": {
      "text/plain": [
       "Call:\n",
       "   aov(formula = h3)\n",
       "\n",
       "Terms:\n",
       "                      TLX Residuals\n",
       "Sum of Squares    1.70668 282.77249\n",
       "Deg. of Freedom         1        46\n",
       "\n",
       "Residual standard error: 2.47936\n",
       "Estimated effects may be unbalanced"
      ]
     },
     "metadata": {},
     "output_type": "display_data"
    },
    {
     "data": {
      "text/plain": [
       "\n",
       "Call:\n",
       "lm(formula = Diff ~ TLX, data = ndat)\n",
       "\n",
       "Residuals:\n",
       "    Min      1Q  Median      3Q     Max \n",
       "-5.7475 -1.7934  0.2296  1.1606  5.2985 \n",
       "\n",
       "Coefficients:\n",
       "            Estimate Std. Error t value Pr(>|t|)\n",
       "(Intercept)  2.85016    1.84619   1.544    0.129\n",
       "TLX         -0.04595    0.08720  -0.527    0.601\n",
       "\n",
       "Residual standard error: 2.479 on 46 degrees of freedom\n",
       "Multiple R-squared:  0.005999,\tAdjusted R-squared:  -0.01561 \n",
       "F-statistic: 0.2776 on 1 and 46 DF,  p-value: 0.6008\n"
      ]
     },
     "metadata": {},
     "output_type": "display_data"
    }
   ],
   "source": [
    "# ndat\n",
    "h3 <- lm(Diff ~ TLX, data=ndat)\n",
    "aov(h3)\n",
    "summary(h3)"
   ]
  }
 ],
 "metadata": {
  "kernelspec": {
   "display_name": "R",
   "language": "R",
   "name": "ir"
  },
  "language_info": {
   "codemirror_mode": "r",
   "file_extension": ".r",
   "mimetype": "text/x-r-source",
   "name": "R",
   "pygments_lexer": "r",
   "version": "3.6.1"
  }
 },
 "nbformat": 4,
 "nbformat_minor": 4
}
