{
 "cells": [
  {
   "cell_type": "markdown",
   "id": "a728c3f7-7a15-4834-ab1d-7780749c2a09",
   "metadata": {},
   "source": [
    "## A script to visualize MW self reports over time\n",
    "_© 2021 Colin Conrad_\n",
    "\n",
    "Permission is hereby granted, free of charge, to any person obtaining a copy of this software and associated documentation files (the \"Software\"), to deal in the Software without restriction, including without limitation the rights to use, copy, modify, merge, publish, distribute, sublicense, and/or sell copies of the Software, and to permit persons to whom the Software is furnished to do so, subject to the following conditions:\n",
    "\n",
    "The above copyright notice and this permission notice shall be included in all copies or substantial portions of the Software.\n",
    "\n",
    "THE SOFTWARE IS PROVIDED \"AS IS\", WITHOUT WARRANTY OF ANY KIND, EXPRESS OR IMPLIED, INCLUDING BUT NOT LIMITED TO THE WARRANTIES OF MERCHANTABILITY, FITNESS FOR A PARTICULAR PURPOSE AND NONINFRINGEMENT. IN NO EVENT SHALL THE AUTHORS OR COPYRIGHT HOLDERS BE LIABLE FOR ANY CLAIM, DAMAGES OR OTHER LIABILITY, WHETHER IN AN ACTION OF CONTRACT, TORT OR OTHERWISE, ARISING FROM, OUT OF OR IN CONNECTION WITH THE SOFTWARE OR THE USE OR OTHER DEALINGS IN THE SOFTWARE."
   ]
  },
  {
   "cell_type": "code",
   "execution_count": 1,
   "id": "73e15782-fa2a-4e36-b54b-6d4f134e4820",
   "metadata": {},
   "outputs": [],
   "source": [
    "import numpy as np\n",
    "import pandas as pd\n",
    "import matplotlib.pyplot as plt\n",
    "import seaborn as sns\n",
    "\n",
    "import statsmodels.api as sm\n",
    "from statsmodels.sandbox.regression.predstd import wls_prediction_std\n",
    "from scipy import stats"
   ]
  },
  {
   "cell_type": "markdown",
   "id": "9a067ee2-2ec9-4724-997f-220c3c3cc4f8",
   "metadata": {},
   "source": [
    "## Import the responses into Pandas"
   ]
  },
  {
   "cell_type": "code",
   "execution_count": 2,
   "id": "767f0975-14f2-4009-8812-8467ba478e95",
   "metadata": {},
   "outputs": [],
   "source": [
    "sns.set_theme() # set seaborn\n",
    "\n",
    "raw = pd.read_csv(\"experience_samples.csv\") "
   ]
  },
  {
   "cell_type": "code",
   "execution_count": 3,
   "id": "2cf45567-afe5-4948-b617-cc404bfb160a",
   "metadata": {},
   "outputs": [
    {
     "data": {
      "text/html": [
       "<div>\n",
       "<style scoped>\n",
       "    .dataframe tbody tr th:only-of-type {\n",
       "        vertical-align: middle;\n",
       "    }\n",
       "\n",
       "    .dataframe tbody tr th {\n",
       "        vertical-align: top;\n",
       "    }\n",
       "\n",
       "    .dataframe thead th {\n",
       "        text-align: right;\n",
       "    }\n",
       "</style>\n",
       "<table border=\"1\" class=\"dataframe\">\n",
       "  <thead>\n",
       "    <tr style=\"text-align: right;\">\n",
       "      <th></th>\n",
       "      <th>participant_id</th>\n",
       "      <th>p1</th>\n",
       "      <th>p2</th>\n",
       "      <th>p3</th>\n",
       "      <th>p4</th>\n",
       "      <th>p5</th>\n",
       "      <th>p6</th>\n",
       "      <th>p7</th>\n",
       "      <th>p8</th>\n",
       "      <th>p9</th>\n",
       "      <th>p10</th>\n",
       "    </tr>\n",
       "  </thead>\n",
       "  <tbody>\n",
       "    <tr>\n",
       "      <th>0</th>\n",
       "      <td>1</td>\n",
       "      <td>2</td>\n",
       "      <td>1</td>\n",
       "      <td>2</td>\n",
       "      <td>1</td>\n",
       "      <td>3</td>\n",
       "      <td>2</td>\n",
       "      <td>5</td>\n",
       "      <td>1</td>\n",
       "      <td>4</td>\n",
       "      <td>1</td>\n",
       "    </tr>\n",
       "    <tr>\n",
       "      <th>1</th>\n",
       "      <td>2</td>\n",
       "      <td>3</td>\n",
       "      <td>1</td>\n",
       "      <td>1</td>\n",
       "      <td>1</td>\n",
       "      <td>1</td>\n",
       "      <td>2</td>\n",
       "      <td>3</td>\n",
       "      <td>1</td>\n",
       "      <td>4</td>\n",
       "      <td>2</td>\n",
       "    </tr>\n",
       "    <tr>\n",
       "      <th>2</th>\n",
       "      <td>3</td>\n",
       "      <td>4</td>\n",
       "      <td>2</td>\n",
       "      <td>1</td>\n",
       "      <td>1</td>\n",
       "      <td>3</td>\n",
       "      <td>1</td>\n",
       "      <td>2</td>\n",
       "      <td>3</td>\n",
       "      <td>2</td>\n",
       "      <td>1</td>\n",
       "    </tr>\n",
       "    <tr>\n",
       "      <th>3</th>\n",
       "      <td>4</td>\n",
       "      <td>2</td>\n",
       "      <td>1</td>\n",
       "      <td>3</td>\n",
       "      <td>4</td>\n",
       "      <td>1</td>\n",
       "      <td>3</td>\n",
       "      <td>2</td>\n",
       "      <td>4</td>\n",
       "      <td>3</td>\n",
       "      <td>2</td>\n",
       "    </tr>\n",
       "    <tr>\n",
       "      <th>4</th>\n",
       "      <td>5</td>\n",
       "      <td>2</td>\n",
       "      <td>2</td>\n",
       "      <td>2</td>\n",
       "      <td>3</td>\n",
       "      <td>3</td>\n",
       "      <td>4</td>\n",
       "      <td>3</td>\n",
       "      <td>3</td>\n",
       "      <td>3</td>\n",
       "      <td>3</td>\n",
       "    </tr>\n",
       "  </tbody>\n",
       "</table>\n",
       "</div>"
      ],
      "text/plain": [
       "   participant_id  p1  p2  p3  p4  p5  p6  p7  p8  p9  p10\n",
       "0               1   2   1   2   1   3   2   5   1   4    1\n",
       "1               2   3   1   1   1   1   2   3   1   4    2\n",
       "2               3   4   2   1   1   3   1   2   3   2    1\n",
       "3               4   2   1   3   4   1   3   2   4   3    2\n",
       "4               5   2   2   2   3   3   4   3   3   3    3"
      ]
     },
     "execution_count": 3,
     "metadata": {},
     "output_type": "execute_result"
    }
   ],
   "source": [
    "raw.head()"
   ]
  },
  {
   "cell_type": "markdown",
   "id": "c5d12d4c-b575-43a1-898f-e027a15f63b2",
   "metadata": {},
   "source": [
    "## Use Pandas' \"melt\" method to transform the variables"
   ]
  },
  {
   "cell_type": "code",
   "execution_count": 4,
   "id": "745bcbd9-520a-458a-a752-b097826f8b6b",
   "metadata": {},
   "outputs": [
    {
     "data": {
      "text/html": [
       "<div>\n",
       "<style scoped>\n",
       "    .dataframe tbody tr th:only-of-type {\n",
       "        vertical-align: middle;\n",
       "    }\n",
       "\n",
       "    .dataframe tbody tr th {\n",
       "        vertical-align: top;\n",
       "    }\n",
       "\n",
       "    .dataframe thead th {\n",
       "        text-align: right;\n",
       "    }\n",
       "</style>\n",
       "<table border=\"1\" class=\"dataframe\">\n",
       "  <thead>\n",
       "    <tr style=\"text-align: right;\">\n",
       "      <th></th>\n",
       "      <th>participant_id</th>\n",
       "      <th>variable</th>\n",
       "      <th>value</th>\n",
       "    </tr>\n",
       "  </thead>\n",
       "  <tbody>\n",
       "    <tr>\n",
       "      <th>0</th>\n",
       "      <td>1</td>\n",
       "      <td>p1</td>\n",
       "      <td>2</td>\n",
       "    </tr>\n",
       "    <tr>\n",
       "      <th>1</th>\n",
       "      <td>2</td>\n",
       "      <td>p1</td>\n",
       "      <td>3</td>\n",
       "    </tr>\n",
       "    <tr>\n",
       "      <th>2</th>\n",
       "      <td>3</td>\n",
       "      <td>p1</td>\n",
       "      <td>4</td>\n",
       "    </tr>\n",
       "    <tr>\n",
       "      <th>3</th>\n",
       "      <td>4</td>\n",
       "      <td>p1</td>\n",
       "      <td>2</td>\n",
       "    </tr>\n",
       "    <tr>\n",
       "      <th>4</th>\n",
       "      <td>5</td>\n",
       "      <td>p1</td>\n",
       "      <td>2</td>\n",
       "    </tr>\n",
       "  </tbody>\n",
       "</table>\n",
       "</div>"
      ],
      "text/plain": [
       "   participant_id variable  value\n",
       "0               1       p1      2\n",
       "1               2       p1      3\n",
       "2               3       p1      4\n",
       "3               4       p1      2\n",
       "4               5       p1      2"
      ]
     },
     "execution_count": 4,
     "metadata": {},
     "output_type": "execute_result"
    }
   ],
   "source": [
    "d = raw.melt(\"participant_id\")\n",
    "d.head()"
   ]
  },
  {
   "cell_type": "code",
   "execution_count": 5,
   "id": "95669b6e-192d-4a5c-a113-32ec6abf97de",
   "metadata": {},
   "outputs": [],
   "source": [
    "d = d.replace(\"p1\", 4.58)\n",
    "d = d.replace(\"p2\", 5.53)\n",
    "d = d.replace(\"p3\", 10.33)\n",
    "d = d.replace(\"p4\", 15.13)\n",
    "d = d.replace(\"p5\", 30.13)\n",
    "d = d.replace(\"p6\", 42.83)\n",
    "d = d.replace(\"p7\", 53.25)\n",
    "d = d.replace(\"p8\", 56.25)\n",
    "d = d.replace(\"p9\", 68.11)\n",
    "d = d.replace(\"p10\", 71.11)"
   ]
  },
  {
   "cell_type": "code",
   "execution_count": 6,
   "id": "b7838973-386e-4eac-9e10-adbe5ab3a4ae",
   "metadata": {},
   "outputs": [
    {
     "data": {
      "text/plain": [
       "[Text(0.5, 0, 'Time (minutes)'),\n",
       " Text(0, 0.5, 'Reported degree of mind wandering')]"
      ]
     },
     "execution_count": 6,
     "metadata": {},
     "output_type": "execute_result"
    },
    {
     "data": {
      "image/png": "[encoded data removed]",
      "text/plain": [
       "<Figure size 432x288 with 1 Axes>"
      ]
     },
     "metadata": {},
     "output_type": "display_data"
    }
   ],
   "source": [
    "sns_plot = sns.lineplot(x=\"variable\", \n",
    "                   y=\"value\", \n",
    "                   markers=True, \n",
    "                   legend=False,\n",
    "                   linewidth=2,\n",
    "                   err_style=\"bars\", \n",
    "                   ci=95,\n",
    "                   data=d)\n",
    "\n",
    "sns_plot.set(ylim=(0, 5))\n",
    "sns_plot.set(xlim=(0, 75))\n",
    "sns_plot.set(xlabel='Time (minutes)', ylabel='Reported degree of mind wandering')"
   ]
  },
  {
   "cell_type": "code",
   "execution_count": 7,
   "id": "afb6d79d-d3fc-4dd4-8565-22bbaafab261",
   "metadata": {},
   "outputs": [],
   "source": [
    "sns_plot.figure.dpi = 300\n",
    "sns_plot.figure.savefig('exp_over_time.png')"
   ]
  }
 ],
 "metadata": {
  "kernelspec": {
   "display_name": "Python 3",
   "language": "python",
   "name": "python3"
  },
  "language_info": {
   "codemirror_mode": {
    "name": "ipython",
    "version": 3
   },
   "file_extension": ".py",
   "mimetype": "text/x-python",
   "name": "python",
   "nbconvert_exporter": "python",
   "pygments_lexer": "ipython3",
   "version": "3.9.4"
  }
 },
 "nbformat": 4,
 "nbformat_minor": 5
}
