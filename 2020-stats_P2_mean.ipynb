{
 "cells": [
  {
   "cell_type": "markdown",
   "metadata": {},
   "source": [
    "# P2 Mean Analysis at 10s\n",
    "## 150-200 ms"
   ]
  },
  {
   "cell_type": "markdown",
   "metadata": {},
   "source": [
    "## Load necessary libraries\n",
    "If any of these don't load, you'll need to install them. Assuming you installed Jupyter through Anaconda, you would do the following to install a package\n",
    "`conda install -c r r-[pkgName]`\n",
    "e.g., to install ggplot2 you would do:\n",
    "`conda install -c r r-ggplot2`"
   ]
  },
  {
   "cell_type": "code",
   "execution_count": 1,
   "metadata": {},
   "outputs": [
    {
     "data": {
      "text/html": [
       "'/opt/conda/lib/R'"
      ],
      "text/latex": [
       "'/opt/conda/lib/R'"
      ],
      "text/markdown": [
       "'/opt/conda/lib/R'"
      ],
      "text/plain": [
       "[1] \"/opt/conda/lib/R\""
      ]
     },
     "metadata": {},
     "output_type": "display_data"
    }
   ],
   "source": [
    "R.home()"
   ]
  },
  {
   "cell_type": "code",
   "execution_count": 2,
   "metadata": {},
   "outputs": [
    {
     "name": "stderr",
     "output_type": "stream",
     "text": [
      "Loading required package: nlme\n",
      "This is mgcv 1.8-29. For overview type 'help(\"mgcv-package\")'.\n",
      "Loading required package: viridisLite\n"
     ]
    }
   ],
   "source": [
    "library(ggplot2)\n",
    "library(mgcv)\n",
    "library(parallel)\n",
    "library(plyr)\n",
    "library(tidyr)\n",
    "library(data.table)\n",
    "library(viridis)\n",
    "# library(ggthemes)\n",
    "library(nlme)"
   ]
  },
  {
   "cell_type": "markdown",
   "metadata": {},
   "source": [
    "## Set parameters for this analysis"
   ]
  },
  {
   "cell_type": "code",
   "execution_count": 3,
   "metadata": {},
   "outputs": [],
   "source": [
    "CurTimeWin = '150-200'\n",
    "component = 'P2_mean'\n",
    "\n",
    "topdir = getwd()\n",
    "expt = 'eLearn'\n",
    "outdir = (paste(topdir,'/R-data/Stats_Output',sep=''))\n",
    "dir.create(outdir, showWarnings = FALSE)\n",
    "# Functions we'll use later\n",
    "source(paste(topdir,'/NCIL_functions.R',sep=\"\"))\n",
    "\n",
    "# source(paste(topdir,'/romr.fnc.R',sep=\"\"))\n",
    "\n",
    "\n",
    "# num parallel processes for bam(). Should be less than the number of threads supported by your CPU\n",
    "num_cores = 4\n",
    "\n",
    "options(\"scipen\"=100, \"digits\"=5)  # force decimal instead of scientific notation"
   ]
  },
  {
   "cell_type": "code",
   "execution_count": 4,
   "metadata": {},
   "outputs": [],
   "source": [
    "subjects = c('01','02','03','04','05','06','07','08','09','10','11','13','14','15','16','17','18','19','20','21','22','23','24','25','26','27','28','29','30','31','32','33','34','35','37','38','39','40','41','42','43','44','45','48','49','50','51','52')"
   ]
  },
  {
   "cell_type": "markdown",
   "metadata": {},
   "source": [
    "## Load Data"
   ]
  },
  {
   "cell_type": "code",
   "execution_count": 5,
   "metadata": {},
   "outputs": [
    {
     "name": "stdout",
     "output_type": "stream",
     "text": [
      "[1] \"/media/NCILscience/ColinConrad_eLearn/full_study/analysis/R-data/01_P2_mean_150-200.csv\"\n",
      "[1] \"/media/NCILscience/ColinConrad_eLearn/full_study/analysis/R-data/02_P2_mean_150-200.csv\"\n",
      "[1] \"/media/NCILscience/ColinConrad_eLearn/full_study/analysis/R-data/03_P2_mean_150-200.csv\"\n",
      "[1] \"/media/NCILscience/ColinConrad_eLearn/full_study/analysis/R-data/04_P2_mean_150-200.csv\"\n",
      "[1] \"/media/NCILscience/ColinConrad_eLearn/full_study/analysis/R-data/05_P2_mean_150-200.csv\"\n",
      "[1] \"/media/NCILscience/ColinConrad_eLearn/full_study/analysis/R-data/06_P2_mean_150-200.csv\"\n",
      "[1] \"/media/NCILscience/ColinConrad_eLearn/full_study/analysis/R-data/07_P2_mean_150-200.csv\"\n",
      "[1] \"/media/NCILscience/ColinConrad_eLearn/full_study/analysis/R-data/08_P2_mean_150-200.csv\"\n",
      "[1] \"/media/NCILscience/ColinConrad_eLearn/full_study/analysis/R-data/09_P2_mean_150-200.csv\"\n",
      "[1] \"/media/NCILscience/ColinConrad_eLearn/full_study/analysis/R-data/10_P2_mean_150-200.csv\"\n",
      "[1] \"/media/NCILscience/ColinConrad_eLearn/full_study/analysis/R-data/11_P2_mean_150-200.csv\"\n",
      "[1] \"/media/NCILscience/ColinConrad_eLearn/full_study/analysis/R-data/13_P2_mean_150-200.csv\"\n",
      "[1] \"/media/NCILscience/ColinConrad_eLearn/full_study/analysis/R-data/14_P2_mean_150-200.csv\"\n",
      "[1] \"/media/NCILscience/ColinConrad_eLearn/full_study/analysis/R-data/15_P2_mean_150-200.csv\"\n",
      "[1] \"/media/NCILscience/ColinConrad_eLearn/full_study/analysis/R-data/16_P2_mean_150-200.csv\"\n",
      "[1] \"/media/NCILscience/ColinConrad_eLearn/full_study/analysis/R-data/17_P2_mean_150-200.csv\"\n",
      "[1] \"/media/NCILscience/ColinConrad_eLearn/full_study/analysis/R-data/18_P2_mean_150-200.csv\"\n",
      "[1] \"/media/NCILscience/ColinConrad_eLearn/full_study/analysis/R-data/19_P2_mean_150-200.csv\"\n",
      "[1] \"/media/NCILscience/ColinConrad_eLearn/full_study/analysis/R-data/20_P2_mean_150-200.csv\"\n",
      "[1] \"/media/NCILscience/ColinConrad_eLearn/full_study/analysis/R-data/21_P2_mean_150-200.csv\"\n",
      "[1] \"/media/NCILscience/ColinConrad_eLearn/full_study/analysis/R-data/22_P2_mean_150-200.csv\"\n",
      "[1] \"/media/NCILscience/ColinConrad_eLearn/full_study/analysis/R-data/23_P2_mean_150-200.csv\"\n",
      "[1] \"/media/NCILscience/ColinConrad_eLearn/full_study/analysis/R-data/24_P2_mean_150-200.csv\"\n",
      "[1] \"/media/NCILscience/ColinConrad_eLearn/full_study/analysis/R-data/25_P2_mean_150-200.csv\"\n",
      "[1] \"/media/NCILscience/ColinConrad_eLearn/full_study/analysis/R-data/26_P2_mean_150-200.csv\"\n",
      "[1] \"/media/NCILscience/ColinConrad_eLearn/full_study/analysis/R-data/27_P2_mean_150-200.csv\"\n",
      "[1] \"/media/NCILscience/ColinConrad_eLearn/full_study/analysis/R-data/28_P2_mean_150-200.csv\"\n",
      "[1] \"/media/NCILscience/ColinConrad_eLearn/full_study/analysis/R-data/29_P2_mean_150-200.csv\"\n",
      "[1] \"/media/NCILscience/ColinConrad_eLearn/full_study/analysis/R-data/30_P2_mean_150-200.csv\"\n",
      "[1] \"/media/NCILscience/ColinConrad_eLearn/full_study/analysis/R-data/31_P2_mean_150-200.csv\"\n",
      "[1] \"/media/NCILscience/ColinConrad_eLearn/full_study/analysis/R-data/32_P2_mean_150-200.csv\"\n",
      "[1] \"/media/NCILscience/ColinConrad_eLearn/full_study/analysis/R-data/33_P2_mean_150-200.csv\"\n",
      "[1] \"/media/NCILscience/ColinConrad_eLearn/full_study/analysis/R-data/34_P2_mean_150-200.csv\"\n",
      "[1] \"/media/NCILscience/ColinConrad_eLearn/full_study/analysis/R-data/35_P2_mean_150-200.csv\"\n",
      "[1] \"/media/NCILscience/ColinConrad_eLearn/full_study/analysis/R-data/37_P2_mean_150-200.csv\"\n",
      "[1] \"/media/NCILscience/ColinConrad_eLearn/full_study/analysis/R-data/38_P2_mean_150-200.csv\"\n",
      "[1] \"/media/NCILscience/ColinConrad_eLearn/full_study/analysis/R-data/39_P2_mean_150-200.csv\"\n",
      "[1] \"/media/NCILscience/ColinConrad_eLearn/full_study/analysis/R-data/40_P2_mean_150-200.csv\"\n",
      "[1] \"/media/NCILscience/ColinConrad_eLearn/full_study/analysis/R-data/41_P2_mean_150-200.csv\"\n",
      "[1] \"/media/NCILscience/ColinConrad_eLearn/full_study/analysis/R-data/42_P2_mean_150-200.csv\"\n",
      "[1] \"/media/NCILscience/ColinConrad_eLearn/full_study/analysis/R-data/43_P2_mean_150-200.csv\"\n",
      "[1] \"/media/NCILscience/ColinConrad_eLearn/full_study/analysis/R-data/44_P2_mean_150-200.csv\"\n",
      "[1] \"/media/NCILscience/ColinConrad_eLearn/full_study/analysis/R-data/45_P2_mean_150-200.csv\"\n",
      "[1] \"/media/NCILscience/ColinConrad_eLearn/full_study/analysis/R-data/48_P2_mean_150-200.csv\"\n",
      "[1] \"/media/NCILscience/ColinConrad_eLearn/full_study/analysis/R-data/49_P2_mean_150-200.csv\"\n",
      "[1] \"/media/NCILscience/ColinConrad_eLearn/full_study/analysis/R-data/50_P2_mean_150-200.csv\"\n",
      "[1] \"/media/NCILscience/ColinConrad_eLearn/full_study/analysis/R-data/51_P2_mean_150-200.csv\"\n",
      "[1] \"/media/NCILscience/ColinConrad_eLearn/full_study/analysis/R-data/52_P2_mean_150-200.csv\"\n"
     ]
    }
   ],
   "source": [
    "dat  <- {}\n",
    "for(s in 1:length(subjects)) {\n",
    "    infile <- paste(topdir, '/R-data/', subjects[s], '_', component, '_', CurTimeWin, '.csv',sep=\"\")\n",
    "    print(infile)\n",
    "    tmpdat <- read.csv(infile) \n",
    "    tmpdat$Subj <- as.factor(subjects[s])\n",
    "    tmplong <- gather(tmpdat, channel, meanAmpl, Fp1:VEOG) \n",
    "    tmplong$channel = as.factor(tmplong$channel)\n",
    "    dat  <- rbind(dat, tmplong)\n",
    "    }\n",
    "\n",
    "setwd(topdir)"
   ]
  },
  {
   "cell_type": "code",
   "execution_count": 6,
   "metadata": {},
   "outputs": [],
   "source": [
    "colnames(dat)[1] <- 'epoch'\n",
    "colnames(dat)[2] <- 'condition'"
   ]
  },
  {
   "cell_type": "code",
   "execution_count": 7,
   "metadata": {},
   "outputs": [
    {
     "data": {
      "text/html": [
       "<table>\n",
       "<caption>A data.frame: 6 × 5</caption>\n",
       "<thead>\n",
       "\t<tr><th scope=col>epoch</th><th scope=col>condition</th><th scope=col>Subj</th><th scope=col>channel</th><th scope=col>meanAmpl</th></tr>\n",
       "\t<tr><th scope=col>&lt;int&gt;</th><th scope=col>&lt;fct&gt;</th><th scope=col>&lt;fct&gt;</th><th scope=col>&lt;fct&gt;</th><th scope=col>&lt;dbl&gt;</th></tr>\n",
       "</thead>\n",
       "<tbody>\n",
       "\t<tr><td>0</td><td>Beep_Start         </td><td>01</td><td>Fp1</td><td> 23.2806</td></tr>\n",
       "\t<tr><td>1</td><td>Unlabelled/Standard</td><td>01</td><td>Fp1</td><td> 15.6645</td></tr>\n",
       "\t<tr><td>2</td><td>Unlabelled/Standard</td><td>01</td><td>Fp1</td><td> 12.7433</td></tr>\n",
       "\t<tr><td>3</td><td>Unlabelled/Standard</td><td>01</td><td>Fp1</td><td>-18.3629</td></tr>\n",
       "\t<tr><td>4</td><td>Unlabelled/Standard</td><td>01</td><td>Fp1</td><td> -2.9732</td></tr>\n",
       "\t<tr><td>5</td><td>Unlabelled/Standard</td><td>01</td><td>Fp1</td><td> -5.2915</td></tr>\n",
       "</tbody>\n",
       "</table>\n"
      ],
      "text/latex": [
       "A data.frame: 6 × 5\n",
       "\\begin{tabular}{r|lllll}\n",
       " epoch & condition & Subj & channel & meanAmpl\\\\\n",
       " <int> & <fct> & <fct> & <fct> & <dbl>\\\\\n",
       "\\hline\n",
       "\t 0 & Beep\\_Start          & 01 & Fp1 &  23.2806\\\\\n",
       "\t 1 & Unlabelled/Standard & 01 & Fp1 &  15.6645\\\\\n",
       "\t 2 & Unlabelled/Standard & 01 & Fp1 &  12.7433\\\\\n",
       "\t 3 & Unlabelled/Standard & 01 & Fp1 & -18.3629\\\\\n",
       "\t 4 & Unlabelled/Standard & 01 & Fp1 &  -2.9732\\\\\n",
       "\t 5 & Unlabelled/Standard & 01 & Fp1 &  -5.2915\\\\\n",
       "\\end{tabular}\n"
      ],
      "text/markdown": [
       "\n",
       "A data.frame: 6 × 5\n",
       "\n",
       "| epoch &lt;int&gt; | condition &lt;fct&gt; | Subj &lt;fct&gt; | channel &lt;fct&gt; | meanAmpl &lt;dbl&gt; |\n",
       "|---|---|---|---|---|\n",
       "| 0 | Beep_Start          | 01 | Fp1 |  23.2806 |\n",
       "| 1 | Unlabelled/Standard | 01 | Fp1 |  15.6645 |\n",
       "| 2 | Unlabelled/Standard | 01 | Fp1 |  12.7433 |\n",
       "| 3 | Unlabelled/Standard | 01 | Fp1 | -18.3629 |\n",
       "| 4 | Unlabelled/Standard | 01 | Fp1 |  -2.9732 |\n",
       "| 5 | Unlabelled/Standard | 01 | Fp1 |  -5.2915 |\n",
       "\n"
      ],
      "text/plain": [
       "  epoch condition           Subj channel meanAmpl\n",
       "1 0     Beep_Start          01   Fp1      23.2806\n",
       "2 1     Unlabelled/Standard 01   Fp1      15.6645\n",
       "3 2     Unlabelled/Standard 01   Fp1      12.7433\n",
       "4 3     Unlabelled/Standard 01   Fp1     -18.3629\n",
       "5 4     Unlabelled/Standard 01   Fp1      -2.9732\n",
       "6 5     Unlabelled/Standard 01   Fp1      -5.2915"
      ]
     },
     "metadata": {},
     "output_type": "display_data"
    }
   ],
   "source": [
    "head(dat) # displaying first 6? list continues for each subject, each channel and each epoch?"
   ]
  },
  {
   "cell_type": "code",
   "execution_count": 8,
   "metadata": {
    "inputHidden": false,
    "outputHidden": false
   },
   "outputs": [
    {
     "data": {
      "text/plain": [
       "     epoch                    condition            Subj        \n",
       " Min.   :   0   Unlabelled/Standard:4270230   11     : 115124  \n",
       " 1st Qu.: 826   Unlabelled/Oddball : 843608   18     : 114512  \n",
       " Median :1653   MW2/Standard       :  65994   48     : 114512  \n",
       " Mean   :1654   MW1/Standard       :  50048   03     : 114478  \n",
       " 3rd Qu.:2480   MW3/Standard       :  48722   21     : 114444  \n",
       " Max.   :3385   MW4/Standard       :  35394   38     : 114444  \n",
       "                (Other)            :  83266   (Other):4709748  \n",
       "    channel           meanAmpl      \n",
       " C3     : 158743   Min.   :-925.82  \n",
       " C4     : 158743   1st Qu.:  -4.22  \n",
       " C5     : 158743   Median :   0.12  \n",
       " C6     : 158743   Mean   :   0.17  \n",
       " CP3    : 158743   3rd Qu.:   4.55  \n",
       " CP4    : 158743   Max.   : 932.98  \n",
       " (Other):4444804                    "
      ]
     },
     "metadata": {},
     "output_type": "display_data"
    }
   ],
   "source": [
    "summary(dat)"
   ]
  },
  {
   "cell_type": "markdown",
   "metadata": {},
   "source": [
    "### Assign ROI labels to electrodes we will analyze, then drop remaining electrodes\n",
    "\n",
    "Let's not use these in the initial analysis. We should keep the working code here just in case."
   ]
  },
  {
   "cell_type": "code",
   "execution_count": 9,
   "metadata": {},
   "outputs": [],
   "source": [
    "dat$ROI = 'NA' # which electrodes WILL we analyze? Should I focus just on the Pz/POz region?\n",
    "\n",
    "dat$ROI<-rep('0',times=nrow(dat))\n",
    "\n",
    "occipital = c('POz', 'PO7', 'PO8', 'Oz', 'O1', 'O2')\n",
    "\n",
    "parietal = c('Pz', 'P3', 'P4', 'CPz', 'CP3', 'CP4')\n",
    "\n",
    "frontal = c('Fz', 'Cz', 'C3', 'C4', 'F3', 'F4')\n",
    "\n",
    "which(dat$channel%in%occipital)->x\n",
    "dat$ROI[x]<-\"Occipital\" \n",
    "\n",
    "which(dat$channel%in%parietal)->x\n",
    "dat$ROI[x]<-\"Parietal\" \n",
    "\n",
    "which(dat$channel%in%frontal)->x\n",
    "dat$ROI[x]<-\"Frontal\" \n",
    "\n",
    "dat$ROI <- factor(dat$ROI, levels = c(\"Occipital\", \"Parietal\", 'Frontal'))\n",
    "\n",
    "# dat = droplevels(dat)\n",
    "dat <- dat %>% drop_na(ROI)"
   ]
  },
  {
   "cell_type": "code",
   "execution_count": 10,
   "metadata": {
    "inputHidden": false,
    "outputHidden": false
   },
   "outputs": [],
   "source": [
    "dat <- dat[ which(dat$condition!='Beep_Start' & \n",
    "                  dat$condition!='Experience_Sample' & \n",
    "                  dat$condition!='Unlabelled/Standard' & \n",
    "                  dat$condition!='Unlabelled/Oddball'),]"
   ]
  },
  {
   "cell_type": "code",
   "execution_count": 11,
   "metadata": {
    "inputHidden": false,
    "outputHidden": false
   },
   "outputs": [],
   "source": [
    "dat <- dat %>%  separate(condition, c(\"MentalState\", \"StimType\"), \"/\")"
   ]
  },
  {
   "cell_type": "code",
   "execution_count": 12,
   "metadata": {
    "inputHidden": false,
    "outputHidden": false
   },
   "outputs": [],
   "source": [
    "dat$StimType <- as.factor(dat$StimType)\n",
    "\n",
    "which(dat$MentalState%in%'MW1') -> x\n",
    "dat$MentalState[x] <- 'MW1'\n",
    "which(dat$MentalState%in%'MW2') -> x\n",
    "dat$MentalState[x] <- 'MW2'\n",
    "which(dat$MentalState%in%'MW3') -> x\n",
    "dat$MentalState[x] <- 'MW3'\n",
    "which(dat$MentalState%in%'MW4') -> x\n",
    "dat$MentalState[x] <- 'MW4'\n",
    "which(dat$MentalState%in%'MW5') -> x\n",
    "dat$MentalState[x] <- 'MW5'\n",
    "dat$MentalState <- as.factor(dat$MentalState)"
   ]
  },
  {
   "cell_type": "code",
   "execution_count": 13,
   "metadata": {
    "inputHidden": false,
    "outputHidden": false
   },
   "outputs": [
    {
     "data": {
      "text/plain": [
       "     epoch      MentalState     StimType           Subj           channel     \n",
       " Min.   : 171   MW1:31500   Oddball : 21582   03     :  2880   C3     : 7448  \n",
       " 1st Qu.: 493   MW2:41634   Standard:112482   15     :  2880   C4     : 7448  \n",
       " Median :1943   MW3:30672                     39     :  2880   CP3    : 7448  \n",
       " Mean   :1685   MW4:22446                     01     :  2862   CP4    : 7448  \n",
       " 3rd Qu.:2615   MW5: 7812                     20     :  2862   CPz    : 7448  \n",
       " Max.   :3384                                 23     :  2862   Cz     : 7448  \n",
       "                                              (Other):116838   (Other):89376  \n",
       "    meanAmpl              ROI       \n",
       " Min.   :-69.394   Occipital:44688  \n",
       " 1st Qu.: -4.760   Parietal :44688  \n",
       " Median :  0.033   Frontal  :44688  \n",
       " Mean   :  0.148                    \n",
       " 3rd Qu.:  4.999                    \n",
       " Max.   : 98.378                    \n",
       "                                    "
      ]
     },
     "metadata": {},
     "output_type": "display_data"
    }
   ],
   "source": [
    "summary(dat)"
   ]
  },
  {
   "cell_type": "markdown",
   "metadata": {},
   "source": [
    "## Create Random Effects Variables"
   ]
  },
  {
   "cell_type": "markdown",
   "metadata": {},
   "source": [
    "Create variable coding the condition x Subj random effects. This serves to address any heteroscedasticity (unequal variance) across conditions, and remove uninteresting, subject-specific noise."
   ]
  },
  {
   "cell_type": "code",
   "execution_count": 14,
   "metadata": {},
   "outputs": [],
   "source": [
    "dat$electrodebySubj = as.factor(paste(as.character(dat$Subj)\n",
    "                                , as.character(dat$channel),\n",
    "                                 sep = \"_\"))\n"
   ]
  },
  {
   "cell_type": "code",
   "execution_count": 15,
   "metadata": {},
   "outputs": [],
   "source": [
    "dat$StimTypebySubj = as.factor(paste(as.character(dat$Subj)\n",
    "                                , as.character(dat$StimType),\n",
    "                                 sep = \"_\"))"
   ]
  },
  {
   "cell_type": "code",
   "execution_count": 16,
   "metadata": {},
   "outputs": [],
   "source": [
    "dat$MentalStatebySubj = as.factor(paste(as.character(dat$Subj)\n",
    "                                , as.character(dat$MentalState),\n",
    "                                 sep = \"_\"))"
   ]
  },
  {
   "cell_type": "code",
   "execution_count": 17,
   "metadata": {},
   "outputs": [
    {
     "data": {
      "text/plain": [
       "     epoch      MentalState     StimType           Subj           channel     \n",
       " Min.   : 171   MW1:31500   Oddball : 21582   03     :  2880   C3     : 7448  \n",
       " 1st Qu.: 493   MW2:41634   Standard:112482   15     :  2880   C4     : 7448  \n",
       " Median :1943   MW3:30672                     39     :  2880   CP3    : 7448  \n",
       " Mean   :1685   MW4:22446                     01     :  2862   CP4    : 7448  \n",
       " 3rd Qu.:2615   MW5: 7812                     20     :  2862   CPz    : 7448  \n",
       " Max.   :3384                                 23     :  2862   Cz     : 7448  \n",
       "                                              (Other):116838   (Other):89376  \n",
       "    meanAmpl              ROI        electrodebySubj      StimTypebySubj  \n",
       " Min.   :-69.394   Occipital:44688   03_C3  :   160   20_Standard:  2520  \n",
       " 1st Qu.: -4.760   Parietal :44688   03_C4  :   160   48_Standard:  2502  \n",
       " Median :  0.033   Frontal  :44688   03_CP3 :   160   01_Standard:  2484  \n",
       " Mean   :  0.148                     03_CP4 :   160   02_Standard:  2484  \n",
       " 3rd Qu.:  4.999                     03_CPz :   160   10_Standard:  2466  \n",
       " Max.   : 98.378                     03_Cz  :   160   35_Standard:  2466  \n",
       "                                     (Other):133104   (Other)    :119142  \n",
       " MentalStatebySubj\n",
       " 48_MW1 :  2286   \n",
       " 24_MW2 :  1998   \n",
       " 08_MW1 :  1908   \n",
       " 13_MW1 :  1710   \n",
       " 26_MW2 :  1710   \n",
       " 05_MW3 :  1692   \n",
       " (Other):122760   "
      ]
     },
     "metadata": {},
     "output_type": "display_data"
    }
   ],
   "source": [
    "summary(dat)"
   ]
  },
  {
   "cell_type": "markdown",
   "metadata": {},
   "source": [
    "## Run initial full model to identify and remove outliers"
   ]
  },
  {
   "cell_type": "markdown",
   "metadata": {},
   "source": [
    "Now run the model"
   ]
  },
  {
   "cell_type": "code",
   "execution_count": 18,
   "metadata": {},
   "outputs": [],
   "source": [
    "m0 <- bam(meanAmpl ~ StimType * MentalState \n",
    "          + s(Subj, bs=\"re\"),\n",
    "          data = dat, \n",
    "          samfrac=0.1)"
   ]
  },
  {
   "cell_type": "code",
   "execution_count": 19,
   "metadata": {},
   "outputs": [
    {
     "name": "stdout",
     "output_type": "stream",
     "text": [
      "n.removed = 3134 \n",
      "percent.removed = 2.3377 \n"
     ]
    }
   ],
   "source": [
    "dat <- romr.fnc(m0, dat, trim=2.5)$data\n",
    "\n",
    "m1 <- bam(meanAmpl ~ StimType * MentalState \n",
    "          + s(Subj, bs=\"re\"),\n",
    "          data = dat, \n",
    "          samfrac=0.1)"
   ]
  },
  {
   "cell_type": "markdown",
   "metadata": {},
   "source": [
    "#### Find and remove outliers, then update model"
   ]
  },
  {
   "cell_type": "code",
   "execution_count": 20,
   "metadata": {},
   "outputs": [
    {
     "name": "stdout",
     "output_type": "stream",
     "text": [
      "\n",
      "Method: fREML   Optimizer: perf newton\n",
      "full convergence after 7 iterations.\n",
      "Gradient range [-0.0014309,-0.000000032894]\n",
      "(score 476555 & scale 71.545).\n",
      "Hessian positive definite, eigenvalue range [20.993,67027].\n",
      "Model rank =  58 / 58 \n",
      "\n",
      "Basis dimension (k) checking results. Low p-value (k-index<1) may\n",
      "indicate that k is too low, especially if edf is close to k'.\n",
      "\n",
      "          k'  edf k-index p-value\n",
      "s(Subj) 48.0 44.4      NA      NA\n"
     ]
    },
    {
     "data": {
      "image/png": "[encoded data removed]",
      "text/plain": [
       "Plot with title “Response vs. Fitted Values”"
      ]
     },
     "metadata": {},
     "output_type": "display_data"
    }
   ],
   "source": [
    "gam.check(m0)"
   ]
  },
  {
   "cell_type": "code",
   "execution_count": null,
   "metadata": {},
   "outputs": [
    {
     "name": "stdout",
     "output_type": "stream",
     "text": [
      "\n",
      "Method: fREML   Optimizer: perf newton\n",
      "full convergence after 7 iterations.\n",
      "Gradient range [-0.000060501,-0.000000001223]\n",
      "(score 448210 & scale 55.005).\n",
      "Hessian positive definite, eigenvalue range [21.296,65460].\n",
      "Model rank =  58 / 58 \n",
      "\n",
      "Basis dimension (k) checking results. Low p-value (k-index<1) may\n",
      "indicate that k is too low, especially if edf is close to k'.\n",
      "\n",
      "          k'  edf k-index p-value\n",
      "s(Subj) 48.0 44.8      NA      NA\n"
     ]
    }
   ],
   "source": [
    "gam.check(m1)"
   ]
  },
  {
   "cell_type": "code",
   "execution_count": null,
   "metadata": {},
   "outputs": [],
   "source": [
    "summary(dat)"
   ]
  },
  {
   "cell_type": "markdown",
   "metadata": {},
   "source": [
    "## Compute cell means and CIs, and plot for occipital region"
   ]
  },
  {
   "cell_type": "code",
   "execution_count": 22,
   "metadata": {},
   "outputs": [],
   "source": [
    "bdat <- dat"
   ]
  },
  {
   "cell_type": "code",
   "execution_count": 23,
   "metadata": {},
   "outputs": [],
   "source": [
    "dat <- subset(bdat, ROI == 'Frontal')\n",
    "\n",
    "trialAvg = ddply(dat, \n",
    "                 .(Subj, MentalState, StimType),\n",
    "                 summarize, \n",
    "                 Ampl = round(mean(meanAmpl), 3))\n",
    "\n",
    "\n",
    "sumstats <- summarySEwithin(trialAvg, \n",
    "                            measurevar = \"Ampl\", \n",
    "                            withinvars = c(\"MentalState\", \"StimType\"),\n",
    "                            idvar = \"Subj\")"
   ]
  },
  {
   "cell_type": "code",
   "execution_count": 24,
   "metadata": {
    "outputExpanded": true
   },
   "outputs": [
    {
     "data": {
      "image/png": "[encoded data removed]",
      "text/plain": [
       "plot without title"
      ]
     },
     "metadata": {},
     "output_type": "display_data"
    }
   ],
   "source": [
    "ggplot(sumstats, aes(y=Ampl, x=MentalState, fill=StimType)) + \n",
    "        geom_bar(position='dodge', stat='identity' ) +\n",
    "        geom_errorbar(aes(ymin = Ampl - ci, ymax = Ampl + ci), \n",
    "                      size = 1, width = .5, \n",
    "                      position = position_dodge(width = .9), \n",
    "                      color = 'grey3') +\n",
    "        ylim(-4,4)\n",
    "\n",
    "#ggsave(filename='2020-experiment-2-p2.png', dpi=600)"
   ]
  },
  {
   "cell_type": "markdown",
   "metadata": {},
   "source": [
    "# GAMM analysis\n",
    "### Compute the family of models we will consider, first contrasting random effects structures"
   ]
  },
  {
   "cell_type": "code",
   "execution_count": 25,
   "metadata": {},
   "outputs": [],
   "source": [
    "cl <- makeCluster(num_cores)\n",
    "\n",
    "m0 <- bam(meanAmpl ~ StimType * MentalState \n",
    "          + s(Subj, bs=\"re\"),\n",
    "          data = dat, \n",
    "          samfrac=0.1, cluster=cl, gc.level=2)\n",
    "\n",
    "m1f <- bam(meanAmpl ~ StimType  \n",
    "          + s(Subj, bs=\"re\"),\n",
    "          data = dat, \n",
    "          samfrac=0.1, cluster=cl, gc.level=2)\n",
    "\n",
    "m2f <- bam(meanAmpl ~ MentalState \n",
    "          + s(Subj, bs=\"re\"),\n",
    "          data = dat, \n",
    "          samfrac=0.1, cluster=cl, gc.level=2)\n",
    "\n",
    "stopCluster(cl)"
   ]
  },
  {
   "cell_type": "code",
   "execution_count": 26,
   "metadata": {},
   "outputs": [
    {
     "data": {
      "text/html": [
       "<table>\n",
       "<caption>A data.frame: 3 × 4</caption>\n",
       "<thead>\n",
       "\t<tr><th></th><th scope=col>df</th><th scope=col>AIC</th><th scope=col>deltaAIC</th><th scope=col>xBetter</th></tr>\n",
       "\t<tr><th></th><th scope=col>&lt;dbl&gt;</th><th scope=col>&lt;dbl&gt;</th><th scope=col>&lt;dbl&gt;</th><th scope=col>&lt;dbl&gt;</th></tr>\n",
       "</thead>\n",
       "<tbody>\n",
       "\t<tr><th scope=row>m0</th><td>54.860</td><td>300943</td><td> 0.000</td><td>          1</td></tr>\n",
       "\t<tr><th scope=row>m1f</th><td>46.992</td><td>300979</td><td>36.543</td><td>   86138179</td></tr>\n",
       "\t<tr><th scope=row>m2f</th><td>49.847</td><td>300993</td><td>50.213</td><td>80077889256</td></tr>\n",
       "</tbody>\n",
       "</table>\n"
      ],
      "text/latex": [
       "A data.frame: 3 × 4\n",
       "\\begin{tabular}{r|llll}\n",
       "  & df & AIC & deltaAIC & xBetter\\\\\n",
       "  & <dbl> & <dbl> & <dbl> & <dbl>\\\\\n",
       "\\hline\n",
       "\tm0 & 54.860 & 300943 &  0.000 &           1\\\\\n",
       "\tm1f & 46.992 & 300979 & 36.543 &    86138179\\\\\n",
       "\tm2f & 49.847 & 300993 & 50.213 & 80077889256\\\\\n",
       "\\end{tabular}\n"
      ],
      "text/markdown": [
       "\n",
       "A data.frame: 3 × 4\n",
       "\n",
       "| <!--/--> | df &lt;dbl&gt; | AIC &lt;dbl&gt; | deltaAIC &lt;dbl&gt; | xBetter &lt;dbl&gt; |\n",
       "|---|---|---|---|---|\n",
       "| m0 | 54.860 | 300943 |  0.000 |           1 |\n",
       "| m1f | 46.992 | 300979 | 36.543 |    86138179 |\n",
       "| m2f | 49.847 | 300993 | 50.213 | 80077889256 |\n",
       "\n"
      ],
      "text/plain": [
       "    df     AIC    deltaAIC xBetter    \n",
       "m0  54.860 300943  0.000             1\n",
       "m1f 46.992 300979 36.543      86138179\n",
       "m2f 49.847 300993 50.213   80077889256"
      ]
     },
     "metadata": {},
     "output_type": "display_data"
    }
   ],
   "source": [
    "AICtab = as.data.frame(AIC(m0,m1f,m2f))\n",
    "minAIC =  min(AIC(m0,m1f,m2f)[2]) \n",
    "\n",
    "AICtab$deltaAIC = lapply(AICtab$AIC, deltaAICfunc)\n",
    "AICtab$deltaAIC = as.numeric(AICtab$deltaAIC)\n",
    "\n",
    "AICtab$L= lapply(AICtab$deltaAIC, f)\n",
    "AICtab$L = as.numeric(AICtab$L)\n",
    "\n",
    "sumlike = sum(AICtab$L)\n",
    "\n",
    "AICtab$wAIC = lapply(AICtab$L, wAICfunc)\n",
    "AICtab$wAIC = as.numeric(AICtab$wAIC)\n",
    "\n",
    "# compute relative likelihood of each model relative to model with smallest AIC/max wAIC\n",
    "# So, xBetter is interpreted as \"the best model is x times more likely than this model\"\n",
    "wAICmax = max(AICtab$wAIC)\n",
    "AICtab$xBetter = lapply(AICtab$wAIC, xBetterfunc)\n",
    "AICtab$xBetter = as.numeric(AICtab$xBetter)\n",
    "\n",
    "AICtab = AICtab[order(AICtab$deltaAIC),] \n",
    "AICtab[,c('df','AIC','deltaAIC','xBetter')]"
   ]
  },
  {
   "cell_type": "code",
   "execution_count": 27,
   "metadata": {
    "inputHidden": false,
    "outputHidden": false
   },
   "outputs": [
    {
     "data": {
      "text/plain": [
       "     epoch      MentalState     StimType          Subj          channel    \n",
       " Min.   : 171   MW1:10194   Oddball : 6918   03     :  960   C4     :7309  \n",
       " 1st Qu.: 493   MW2:13547   Standard:36302   15     :  951   C3     :7291  \n",
       " Median :1942   MW3: 9846                    23     :  950   F3     :7205  \n",
       " Mean   :1684   MW4: 7175                    27     :  946   F4     :7201  \n",
       " 3rd Qu.:2615   MW5: 2458                    10     :  942   Cz     :7118  \n",
       " Max.   :3384                                18     :  938   Fz     :7096  \n",
       "                                             (Other):37533   (Other):   0  \n",
       "    meanAmpl              ROI        electrodebySubj     StimTypebySubj \n",
       " Min.   :-22.890   Occipital:    0   03_C3  :  160   02_Standard:  816  \n",
       " 1st Qu.: -4.973   Parietal :    0   03_C4  :  160   10_Standard:  816  \n",
       " Median :  0.172   Frontal  :43220   03_Cz  :  160   06_Standard:  813  \n",
       " Mean   :  0.238                     03_F3  :  160   35_Standard:  812  \n",
       " 3rd Qu.:  5.467                     03_F4  :  160   48_Standard:  809  \n",
       " Max.   : 22.604                     03_Fz  :  160   23_Standard:  807  \n",
       "                                     (Other):42260   (Other)    :38347  \n",
       " MentalStatebySubj     rstand        \n",
       " 48_MW1 :  740     Min.   :-2.49959  \n",
       " 24_MW2 :  642     1st Qu.:-0.59743  \n",
       " 08_MW1 :  580     Median : 0.00632  \n",
       " 18_MW1 :  561     Mean   : 0.01114  \n",
       " 05_MW3 :  559     3rd Qu.: 0.62377  \n",
       " 38_MW1 :  556     Max.   : 2.49932  \n",
       " (Other):39582                       "
      ]
     },
     "metadata": {},
     "output_type": "display_data"
    }
   ],
   "source": [
    "summary(dat)"
   ]
  },
  {
   "cell_type": "markdown",
   "metadata": {},
   "source": [
    "## Compute LME based on model StimType * MentalState\n",
    "- We will start by clustering around MW1 Standard\n",
    "- We see the original amplified P2 effect disappear\n",
    "- It is possible that this was an effect of the contrasts between conditions\n",
    "- When MW, oddball responses are high; oddballs are significantly lower when on task\n",
    "- Differences might be greater at Fz based on preliminary analysis of grand averages"
   ]
  },
  {
   "cell_type": "code",
   "execution_count": 28,
   "metadata": {},
   "outputs": [],
   "source": [
    "# relevel data to focus on standard and MW1\n",
    "\n",
    "dat[,'MentalState'] <- relevel(dat[,'MentalState'],'MW1')\n",
    "dat[,'StimType'] <- relevel(dat[,'StimType'],'Standard')"
   ]
  },
  {
   "cell_type": "markdown",
   "metadata": {},
   "source": [
    "### Try many models"
   ]
  },
  {
   "cell_type": "code",
   "execution_count": 29,
   "metadata": {
    "inputHidden": false,
    "outputHidden": false
   },
   "outputs": [],
   "source": [
    "cl <- makeCluster(num_cores)\n",
    "\n",
    "m1r <- bam(meanAmpl ~ StimType * MentalState   \n",
    "          + s(Subj, bs=\"re\") \n",
    "           + s(electrodebySubj, bs=\"re\"),\n",
    "          data = dat, \n",
    "          samfrac=0.1, cluster=cl, gc.level=2)\n",
    "\n",
    "m2r <- bam(meanAmpl ~ StimType * MentalState   \n",
    "          + s(Subj, bs=\"re\") \n",
    "           + s(StimTypebySubj, bs=\"re\"),\n",
    "          data = dat, \n",
    "          samfrac=0.1, cluster=cl, gc.level=2)\n",
    "\n",
    "m3r <- bam(meanAmpl ~ StimType * MentalState   \n",
    "          + s(Subj, bs=\"re\") \n",
    "           + s(MentalStatebySubj, bs=\"re\"),\n",
    "          data = dat, \n",
    "          samfrac=0.1, cluster=cl, gc.level=2)\n",
    "\n",
    "m4r <- bam(meanAmpl ~ StimType * MentalState  \n",
    "           + s(Subj, bs=\"re\") \n",
    "           + s(electrodebySubj, bs=\"re\")  \n",
    "           + s(StimTypebySubj, bs=\"re\"), \n",
    "          data = dat, \n",
    "          samfrac=0.1, cluster=cl, gc.level=2)\n",
    "\n",
    "m5r <- bam(meanAmpl ~ StimType * MentalState  \n",
    "           + s(Subj, bs=\"re\") \n",
    "           + s(electrodebySubj, bs=\"re\")  \n",
    "           + s(MentalStatebySubj, bs=\"re\"),\n",
    "          data = dat, \n",
    "          samfrac=0.1, cluster=cl, gc.level=2)\n",
    "\n",
    "m6r <- bam(meanAmpl ~ StimType * MentalState  \n",
    "           + s(Subj, bs=\"re\") \n",
    "           + s(StimTypebySubj, bs=\"re\") \n",
    "           + s(MentalStatebySubj, bs=\"re\"),\n",
    "          data = dat, \n",
    "          samfrac=0.1, cluster=cl, gc.level=2)\n",
    "\n",
    "stopCluster(cl)"
   ]
  },
  {
   "cell_type": "markdown",
   "metadata": {},
   "source": [
    "### Select best model based on AIC"
   ]
  },
  {
   "cell_type": "code",
   "execution_count": 30,
   "metadata": {
    "inputHidden": false,
    "outputHidden": false
   },
   "outputs": [
    {
     "data": {
      "text/html": [
       "<table>\n",
       "<caption>A data.frame: 7 × 4</caption>\n",
       "<thead>\n",
       "\t<tr><th></th><th scope=col>df</th><th scope=col>AIC</th><th scope=col>deltaAIC</th><th scope=col>xBetter</th></tr>\n",
       "\t<tr><th></th><th scope=col>&lt;dbl&gt;</th><th scope=col>&lt;dbl&gt;</th><th scope=col>&lt;dbl&gt;</th><th scope=col>&lt;dbl&gt;</th></tr>\n",
       "</thead>\n",
       "<tbody>\n",
       "\t<tr><th scope=row>m6r</th><td>196.939</td><td>300301</td><td>  0.00</td><td> 1.0000e+00</td></tr>\n",
       "\t<tr><th scope=row>m3r</th><td>157.106</td><td>300539</td><td>238.18</td><td> 5.2549e+51</td></tr>\n",
       "\t<tr><th scope=row>m5r</th><td>157.110</td><td>300539</td><td>238.19</td><td> 5.2644e+51</td></tr>\n",
       "\t<tr><th scope=row>m2r</th><td> 94.503</td><td>300706</td><td>405.37</td><td> 1.0573e+88</td></tr>\n",
       "\t<tr><th scope=row>m4r</th><td> 94.507</td><td>300706</td><td>405.37</td><td> 1.0592e+88</td></tr>\n",
       "\t<tr><th scope=row>m0</th><td> 54.860</td><td>300943</td><td>641.82</td><td>2.3392e+139</td></tr>\n",
       "\t<tr><th scope=row>m1r</th><td> 54.862</td><td>300943</td><td>641.82</td><td>2.3421e+139</td></tr>\n",
       "</tbody>\n",
       "</table>\n"
      ],
      "text/latex": [
       "A data.frame: 7 × 4\n",
       "\\begin{tabular}{r|llll}\n",
       "  & df & AIC & deltaAIC & xBetter\\\\\n",
       "  & <dbl> & <dbl> & <dbl> & <dbl>\\\\\n",
       "\\hline\n",
       "\tm6r & 196.939 & 300301 &   0.00 &  1.0000e+00\\\\\n",
       "\tm3r & 157.106 & 300539 & 238.18 &  5.2549e+51\\\\\n",
       "\tm5r & 157.110 & 300539 & 238.19 &  5.2644e+51\\\\\n",
       "\tm2r &  94.503 & 300706 & 405.37 &  1.0573e+88\\\\\n",
       "\tm4r &  94.507 & 300706 & 405.37 &  1.0592e+88\\\\\n",
       "\tm0 &  54.860 & 300943 & 641.82 & 2.3392e+139\\\\\n",
       "\tm1r &  54.862 & 300943 & 641.82 & 2.3421e+139\\\\\n",
       "\\end{tabular}\n"
      ],
      "text/markdown": [
       "\n",
       "A data.frame: 7 × 4\n",
       "\n",
       "| <!--/--> | df &lt;dbl&gt; | AIC &lt;dbl&gt; | deltaAIC &lt;dbl&gt; | xBetter &lt;dbl&gt; |\n",
       "|---|---|---|---|---|\n",
       "| m6r | 196.939 | 300301 |   0.00 |  1.0000e+00 |\n",
       "| m3r | 157.106 | 300539 | 238.18 |  5.2549e+51 |\n",
       "| m5r | 157.110 | 300539 | 238.19 |  5.2644e+51 |\n",
       "| m2r |  94.503 | 300706 | 405.37 |  1.0573e+88 |\n",
       "| m4r |  94.507 | 300706 | 405.37 |  1.0592e+88 |\n",
       "| m0 |  54.860 | 300943 | 641.82 | 2.3392e+139 |\n",
       "| m1r |  54.862 | 300943 | 641.82 | 2.3421e+139 |\n",
       "\n"
      ],
      "text/plain": [
       "    df      AIC    deltaAIC xBetter    \n",
       "m6r 196.939 300301   0.00    1.0000e+00\n",
       "m3r 157.106 300539 238.18    5.2549e+51\n",
       "m5r 157.110 300539 238.19    5.2644e+51\n",
       "m2r  94.503 300706 405.37    1.0573e+88\n",
       "m4r  94.507 300706 405.37    1.0592e+88\n",
       "m0   54.860 300943 641.82   2.3392e+139\n",
       "m1r  54.862 300943 641.82   2.3421e+139"
      ]
     },
     "metadata": {},
     "output_type": "display_data"
    }
   ],
   "source": [
    "AICtab = as.data.frame(AIC(m0,m1r,m2r,m3r,m4r,m5r,m6r))\n",
    "minAIC =  min(AIC(m0,m1r,m2r,m3r,m4r,m5r,m6r)[2]) \n",
    "\n",
    "AICtab$deltaAIC = lapply(AICtab$AIC, deltaAICfunc)\n",
    "AICtab$deltaAIC = as.numeric(AICtab$deltaAIC)\n",
    "\n",
    "AICtab$L= lapply(AICtab$deltaAIC, f)\n",
    "AICtab$L = as.numeric(AICtab$L)\n",
    "\n",
    "sumlike = sum(AICtab$L)\n",
    "\n",
    "AICtab$wAIC = lapply(AICtab$L, wAICfunc)\n",
    "AICtab$wAIC = as.numeric(AICtab$wAIC)\n",
    "\n",
    "# compute relative likelihood of each model relative to model with smallest AIC/max wAIC\n",
    "# So, xBetter is interpreted as \"the best model is x times more likely than this model\"\n",
    "wAICmax = max(AICtab$wAIC)\n",
    "AICtab$xBetter = lapply(AICtab$wAIC, xBetterfunc)\n",
    "AICtab$xBetter = as.numeric(AICtab$xBetter)\n",
    "\n",
    "AICtab = AICtab[order(AICtab$deltaAIC),] \n",
    "AICtab[,c('df','AIC','deltaAIC','xBetter')]"
   ]
  },
  {
   "cell_type": "markdown",
   "metadata": {},
   "source": [
    "### Get summary of the best model\n",
    "Main effects and interactions. "
   ]
  },
  {
   "cell_type": "code",
   "execution_count": 51,
   "metadata": {},
   "outputs": [
    {
     "data": {
      "text/plain": [
       "\n",
       "Family: gaussian \n",
       "Link function: identity \n",
       "\n",
       "Formula:\n",
       "meanAmpl ~ StimType * MentalState + s(Subj, bs = \"re\") + s(StimTypebySubj, \n",
       "    bs = \"re\") + s(MentalStatebySubj, bs = \"re\")\n",
       "\n",
       "Parametric Terms:\n",
       "                     df    F p-value\n",
       "StimType              1 1.77  0.1839\n",
       "MentalState           4 2.58  0.0353\n",
       "StimType:MentalState  4 3.94  0.0034\n",
       "\n",
       "Approximate significance of smooth terms:\n",
       "                        edf Ref.df    F p-value\n",
       "s(Subj)                9.47  47.00 21.2 0.14679\n",
       "s(StimTypebySubj)     61.48  94.00 32.7 0.00239\n",
       "s(MentalStatebySubj) 114.05 173.00 14.9 0.00025"
      ]
     },
     "metadata": {},
     "output_type": "display_data"
    }
   ],
   "source": [
    "mod = m6r\n",
    "\n",
    "mod_summary = anova(mod)\n",
    "capture.output(mod_summary, file=paste(outdir, 'ANOVA_table ', CurTimeWin, \n",
    "                                       '.txt' ,sep=''))\n",
    "\n",
    "mod_summary"
   ]
  },
  {
   "cell_type": "code",
   "execution_count": 52,
   "metadata": {},
   "outputs": [
    {
     "data": {
      "text/plain": [
       "\n",
       "Family: gaussian \n",
       "Link function: identity \n",
       "\n",
       "Formula:\n",
       "meanAmpl ~ StimType * MentalState + s(Subj, bs = \"re\") + s(StimTypebySubj, \n",
       "    bs = \"re\") + s(MentalStatebySubj, bs = \"re\")\n",
       "\n",
       "Parametric coefficients:\n",
       "                               Estimate Std. Error t value Pr(>|t|)   \n",
       "(Intercept)                       0.688      0.299    2.30   0.0216 * \n",
       "StimTypeOddball                  -0.453      0.341   -1.33   0.1839   \n",
       "MentalStateMW2                   -0.169      0.297   -0.57   0.5689   \n",
       "MentalStateMW3                   -0.227      0.313   -0.73   0.4677   \n",
       "MentalStateMW4                   -0.953      0.331   -2.88   0.0040 **\n",
       "MentalStateMW5                   -0.531      0.450   -1.18   0.2376   \n",
       "StimTypeOddball:MentalStateMW2   -0.113      0.302   -0.37   0.7090   \n",
       "StimTypeOddball:MentalStateMW3   -0.908      0.342   -2.66   0.0079 **\n",
       "StimTypeOddball:MentalStateMW4    0.311      0.370    0.84   0.4004   \n",
       "StimTypeOddball:MentalStateMW5   -0.699      0.547   -1.28   0.2018   \n",
       "---\n",
       "Signif. codes:  0 ‘***’ 0.001 ‘**’ 0.01 ‘*’ 0.05 ‘.’ 0.1 ‘ ’ 1\n",
       "\n",
       "Approximate significance of smooth terms:\n",
       "                        edf Ref.df    F p-value    \n",
       "s(Subj)                9.47     47 21.2 0.14679    \n",
       "s(StimTypebySubj)     61.48     94 32.7 0.00239 ** \n",
       "s(MentalStatebySubj) 114.05    173 14.9 0.00025 ***\n",
       "---\n",
       "Signif. codes:  0 ‘***’ 0.001 ‘**’ 0.01 ‘*’ 0.05 ‘.’ 0.1 ‘ ’ 1\n",
       "\n",
       "R-sq.(adj) =  0.0344   Deviance explained = 3.87%\n",
       "fREML = 1.5028e+05  Scale est. = 60.687    n = 43220"
      ]
     },
     "metadata": {},
     "output_type": "display_data"
    }
   ],
   "source": [
    "summary(mod)"
   ]
  },
  {
   "cell_type": "markdown",
   "metadata": {},
   "source": [
    "### Visualize these results"
   ]
  },
  {
   "cell_type": "code",
   "execution_count": 55,
   "metadata": {},
   "outputs": [
    {
     "data": {
      "text/html": [
       "<table>\n",
       "<caption>A data.frame: 4 × 8</caption>\n",
       "<thead>\n",
       "\t<tr><th scope=col>Condition</th><th scope=col>Estimate</th><th scope=col>SE</th><th scope=col>CIup</th><th scope=col>CIdown</th><th scope=col>t value</th><th scope=col>p (raw)</th><th scope=col>p (Holm)</th></tr>\n",
       "\t<tr><th scope=col>&lt;chr&gt;</th><th scope=col>&lt;dbl&gt;</th><th scope=col>&lt;dbl&gt;</th><th scope=col>&lt;dbl&gt;</th><th scope=col>&lt;dbl&gt;</th><th scope=col>&lt;dbl&gt;</th><th scope=col>&lt;dbl&gt;</th><th scope=col>&lt;dbl&gt;</th></tr>\n",
       "</thead>\n",
       "<tbody>\n",
       "\t<tr><td>2 (Somewhat OT)      </td><td>-0.17</td><td>0.297</td><td> 0.57</td><td>-0.91</td><td>-0.57</td><td>0.56895</td><td>0.9354</td></tr>\n",
       "\t<tr><td>3 (Neither OT nor MW)</td><td>-0.23</td><td>0.313</td><td> 0.56</td><td>-1.01</td><td>-0.73</td><td>0.46769</td><td>0.9354</td></tr>\n",
       "\t<tr><td>4 (Somewhat MW)      </td><td>-0.95</td><td>0.331</td><td>-0.12</td><td>-1.78</td><td>-2.88</td><td>0.00403</td><td>0.0161</td></tr>\n",
       "\t<tr><td>5 (Completely MW)    </td><td>-0.53</td><td>0.450</td><td> 0.59</td><td>-1.66</td><td>-1.18</td><td>0.23765</td><td>0.7130</td></tr>\n",
       "</tbody>\n",
       "</table>\n"
      ],
      "text/latex": [
       "A data.frame: 4 × 8\n",
       "\\begin{tabular}{r|llllllll}\n",
       " Condition & Estimate & SE & CIup & CIdown & t value & p (raw) & p (Holm)\\\\\n",
       " <chr> & <dbl> & <dbl> & <dbl> & <dbl> & <dbl> & <dbl> & <dbl>\\\\\n",
       "\\hline\n",
       "\t 2 (Somewhat OT)       & -0.17 & 0.297 &  0.57 & -0.91 & -0.57 & 0.56895 & 0.9354\\\\\n",
       "\t 3 (Neither OT nor MW) & -0.23 & 0.313 &  0.56 & -1.01 & -0.73 & 0.46769 & 0.9354\\\\\n",
       "\t 4 (Somewhat MW)       & -0.95 & 0.331 & -0.12 & -1.78 & -2.88 & 0.00403 & 0.0161\\\\\n",
       "\t 5 (Completely MW)     & -0.53 & 0.450 &  0.59 & -1.66 & -1.18 & 0.23765 & 0.7130\\\\\n",
       "\\end{tabular}\n"
      ],
      "text/markdown": [
       "\n",
       "A data.frame: 4 × 8\n",
       "\n",
       "| Condition &lt;chr&gt; | Estimate &lt;dbl&gt; | SE &lt;dbl&gt; | CIup &lt;dbl&gt; | CIdown &lt;dbl&gt; | t value &lt;dbl&gt; | p (raw) &lt;dbl&gt; | p (Holm) &lt;dbl&gt; |\n",
       "|---|---|---|---|---|---|---|---|\n",
       "| 2 (Somewhat OT)       | -0.17 | 0.297 |  0.57 | -0.91 | -0.57 | 0.56895 | 0.9354 |\n",
       "| 3 (Neither OT nor MW) | -0.23 | 0.313 |  0.56 | -1.01 | -0.73 | 0.46769 | 0.9354 |\n",
       "| 4 (Somewhat MW)       | -0.95 | 0.331 | -0.12 | -1.78 | -2.88 | 0.00403 | 0.0161 |\n",
       "| 5 (Completely MW)     | -0.53 | 0.450 |  0.59 | -1.66 | -1.18 | 0.23765 | 0.7130 |\n",
       "\n"
      ],
      "text/plain": [
       "  Condition             Estimate SE    CIup  CIdown t value p (raw) p (Holm)\n",
       "1 2 (Somewhat OT)       -0.17    0.297  0.57 -0.91  -0.57   0.56895 0.9354  \n",
       "2 3 (Neither OT nor MW) -0.23    0.313  0.56 -1.01  -0.73   0.46769 0.9354  \n",
       "3 4 (Somewhat MW)       -0.95    0.331 -0.12 -1.78  -2.88   0.00403 0.0161  \n",
       "4 5 (Completely MW)     -0.53    0.450  0.59 -1.66  -1.18   0.23765 0.7130  "
      ]
     },
     "metadata": {},
     "output_type": "display_data"
    }
   ],
   "source": [
    "res <- t(summary(mod)$p.table[3,])\n",
    "res <- as.data.frame(res)\n",
    "res$Condition = paste(\"2 (Somewhat OT)\")\n",
    "posthocs <- res\n",
    "\n",
    "res <- t(summary(mod)$p.table[4,])\n",
    "res <- as.data.frame(res)\n",
    "res$Condition = paste(\"3 (Neither OT nor MW)\")\n",
    "posthocs <- rbind(posthocs, res)\n",
    "\n",
    "res <- t(summary(mod)$p.table[5,])\n",
    "res <- as.data.frame(res)\n",
    "res$Condition = paste(\"4 (Somewhat MW)\")\n",
    "posthocs <- rbind(posthocs, res)\n",
    "\n",
    "res <- t(summary(mod)$p.table[6,])\n",
    "res <- as.data.frame(res)\n",
    "res$Condition = paste(\"5 (Completely MW)\")\n",
    "posthocs <- rbind(posthocs, res)\n",
    "\n",
    "colnames(posthocs)[2] <- 'SE'\n",
    "colnames(posthocs)[4] <- 'p (raw)'\n",
    "\n",
    "# CIs\n",
    "ncomp  <- dim(posthocs)[1] #-2 # The -2 is bc the age x polynomial contrasts are repeated for each group, but are teh same\n",
    "thr <- adjust.se(alpha=0.05, df=1000, ncomp=ncomp)\n",
    "posthocs$CIup <- round(posthocs$Estimate + thr * posthocs$SE, 2)\n",
    "posthocs$CIdown <- round(posthocs$Estimate - thr * posthocs$SE, 2)\n",
    "\n",
    "# Round for pretty table\n",
    "posthocs[,'Estimate'] = round(posthocs[,'Estimate'],2)\n",
    "posthocs[,'SE'] = round(posthocs[,'SE'],3)\n",
    "posthocs[,'t value'] = round(posthocs[,'t value'],2)\n",
    "posthocs[,'p (raw)'] = round(posthocs[,'p (raw)'],5)\n",
    "\n",
    "# Reorder columns\n",
    "posthocs = posthocs[,c('Condition', 'Estimate','SE','CIup','CIdown','t value','p (raw)')]\n",
    "\n",
    "\n",
    "# Multiple comparison correction\n",
    "posthocs$'p (Holm)'     <- round(p.adjust(posthocs$'p (raw)', method='holm', n <- ncomp), 4)\n",
    "\n",
    "# write.csv(posthocs, file=paste(topdir, '/', expt, '_output/', 'stats ', CurTimeWin, \n",
    "#                                ' posthocs 4way BxGxVxR.csv' ,sep=''))\n",
    "\n",
    "posthocs"
   ]
  },
  {
   "cell_type": "code",
   "execution_count": 56,
   "metadata": {},
   "outputs": [
    {
     "name": "stderr",
     "output_type": "stream",
     "text": [
      "Saving 6.67 x 6.67 in image\n"
     ]
    },
    {
     "data": {
      "image/png": "[encoded data removed]",
      "text/plain": [
       "plot without title"
      ]
     },
     "metadata": {},
     "output_type": "display_data"
    }
   ],
   "source": [
    "ggplot(posthocs, aes(x=Condition, y=Estimate)) + \n",
    "        geom_bar(position='dodge', stat='identity', fill='indianred' ) +\n",
    "        geom_errorbar(aes(ymin = CIdown, ymax = CIup), \n",
    "                      size = 1, width = .5, \n",
    "                      position = position_dodge(width = .9), \n",
    "                      color = 'grey3') +\n",
    "        ylim(-4,4) + \n",
    "        ggtitle(\"P2 amplitude (150-200 ms; standard stimuli)\") +\n",
    "        theme(plot.title = element_text(hjust=0.5)) +\n",
    "        xlab(\"Comparison\")\n",
    "\n",
    "ggsave(filename='standard-p2.png', dpi=600)"
   ]
  },
  {
   "cell_type": "markdown",
   "metadata": {},
   "source": [
    "### Compare MW1 oddball instead"
   ]
  },
  {
   "cell_type": "code",
   "execution_count": 44,
   "metadata": {},
   "outputs": [],
   "source": [
    "# relevel data to focus on standard and MW1\n",
    "\n",
    "dat[,'MentalState'] <- relevel(dat[,'MentalState'],'MW1')\n",
    "dat[,'StimType'] <- relevel(dat[,'StimType'],'Oddball')\n",
    "\n",
    "cl <- makeCluster(num_cores)\n",
    "\n",
    "m7r <- bam(meanAmpl ~ StimType * MentalState  \n",
    "           + s(Subj, bs=\"re\") \n",
    "           + s(StimTypebySubj, bs=\"re\") \n",
    "           + s(MentalStatebySubj, bs=\"re\"),\n",
    "          data = dat, \n",
    "          samfrac=0.1, cluster=cl, gc.level=2)\n",
    "\n",
    "stopCluster(cl)"
   ]
  },
  {
   "cell_type": "code",
   "execution_count": 61,
   "metadata": {},
   "outputs": [
    {
     "data": {
      "text/plain": [
       "\n",
       "Family: gaussian \n",
       "Link function: identity \n",
       "\n",
       "Formula:\n",
       "meanAmpl ~ StimType * MentalState + s(Subj, bs = \"re\") + s(StimTypebySubj, \n",
       "    bs = \"re\") + s(MentalStatebySubj, bs = \"re\")\n",
       "\n",
       "Parametric Terms:\n",
       "                     df    F p-value\n",
       "StimType              1 1.77  0.1839\n",
       "MentalState           4 2.49  0.0409\n",
       "StimType:MentalState  4 3.94  0.0034\n",
       "\n",
       "Approximate significance of smooth terms:\n",
       "                        edf Ref.df    F p-value\n",
       "s(Subj)                9.47  47.00 21.2 0.14679\n",
       "s(StimTypebySubj)     61.48  94.00 32.7 0.00239\n",
       "s(MentalStatebySubj) 114.05 173.00 14.9 0.00025"
      ]
     },
     "metadata": {},
     "output_type": "display_data"
    }
   ],
   "source": [
    "mod = m7r\n",
    "\n",
    "mod_summary = anova(mod)\n",
    "capture.output(mod_summary, file=paste(outdir, 'ANOVA_table ', CurTimeWin, \n",
    "                                       '.txt' ,sep=''))\n",
    "\n",
    "mod_summary"
   ]
  },
  {
   "cell_type": "code",
   "execution_count": 62,
   "metadata": {},
   "outputs": [
    {
     "data": {
      "text/plain": [
       "\n",
       "Family: gaussian \n",
       "Link function: identity \n",
       "\n",
       "Formula:\n",
       "meanAmpl ~ StimType * MentalState + s(Subj, bs = \"re\") + s(StimTypebySubj, \n",
       "    bs = \"re\") + s(MentalStatebySubj, bs = \"re\")\n",
       "\n",
       "Parametric coefficients:\n",
       "                                Estimate Std. Error t value Pr(>|t|)   \n",
       "(Intercept)                        0.234      0.357    0.66   0.5112   \n",
       "StimTypeStandard                   0.453      0.341    1.33   0.1839   \n",
       "MentalStateMW2                    -0.282      0.387   -0.73   0.4666   \n",
       "MentalStateMW3                    -1.135      0.418   -2.71   0.0067 **\n",
       "MentalStateMW4                    -0.642      0.446   -1.44   0.1500   \n",
       "MentalStateMW5                    -1.230      0.636   -1.93   0.0531 . \n",
       "StimTypeStandard:MentalStateMW2    0.113      0.302    0.37   0.7090   \n",
       "StimTypeStandard:MentalStateMW3    0.908      0.342    2.66   0.0079 **\n",
       "StimTypeStandard:MentalStateMW4   -0.311      0.370   -0.84   0.4004   \n",
       "StimTypeStandard:MentalStateMW5    0.699      0.547    1.28   0.2018   \n",
       "---\n",
       "Signif. codes:  0 ‘***’ 0.001 ‘**’ 0.01 ‘*’ 0.05 ‘.’ 0.1 ‘ ’ 1\n",
       "\n",
       "Approximate significance of smooth terms:\n",
       "                        edf Ref.df    F p-value    \n",
       "s(Subj)                9.47     47 21.2 0.14679    \n",
       "s(StimTypebySubj)     61.48     94 32.7 0.00239 ** \n",
       "s(MentalStatebySubj) 114.05    173 14.9 0.00025 ***\n",
       "---\n",
       "Signif. codes:  0 ‘***’ 0.001 ‘**’ 0.01 ‘*’ 0.05 ‘.’ 0.1 ‘ ’ 1\n",
       "\n",
       "R-sq.(adj) =  0.0344   Deviance explained = 3.87%\n",
       "fREML = 1.5028e+05  Scale est. = 60.687    n = 43220"
      ]
     },
     "metadata": {},
     "output_type": "display_data"
    }
   ],
   "source": [
    "summary(mod)"
   ]
  },
  {
   "cell_type": "markdown",
   "metadata": {},
   "source": [
    "### Visualize the results"
   ]
  },
  {
   "cell_type": "code",
   "execution_count": 63,
   "metadata": {},
   "outputs": [
    {
     "data": {
      "text/html": [
       "<table>\n",
       "<caption>A data.frame: 4 × 8</caption>\n",
       "<thead>\n",
       "\t<tr><th scope=col>Condition</th><th scope=col>Estimate</th><th scope=col>SE</th><th scope=col>CIup</th><th scope=col>CIdown</th><th scope=col>t value</th><th scope=col>p (raw)</th><th scope=col>p (Holm)</th></tr>\n",
       "\t<tr><th scope=col>&lt;chr&gt;</th><th scope=col>&lt;dbl&gt;</th><th scope=col>&lt;dbl&gt;</th><th scope=col>&lt;dbl&gt;</th><th scope=col>&lt;dbl&gt;</th><th scope=col>&lt;dbl&gt;</th><th scope=col>&lt;dbl&gt;</th><th scope=col>&lt;dbl&gt;</th></tr>\n",
       "</thead>\n",
       "<tbody>\n",
       "\t<tr><td>2 (Somewhat OT)      </td><td>-0.28</td><td>0.387</td><td> 0.69</td><td>-1.25</td><td>-0.73</td><td>0.46658</td><td>0.4666</td></tr>\n",
       "\t<tr><td>3 (Neither OT nor MW)</td><td>-1.14</td><td>0.418</td><td>-0.09</td><td>-2.18</td><td>-2.71</td><td>0.00666</td><td>0.0266</td></tr>\n",
       "\t<tr><td>4 (Somewhat MW)      </td><td>-0.64</td><td>0.446</td><td> 0.47</td><td>-1.76</td><td>-1.44</td><td>0.15002</td><td>0.3000</td></tr>\n",
       "\t<tr><td>5 (Completely MW)    </td><td>-1.23</td><td>0.636</td><td> 0.36</td><td>-2.82</td><td>-1.93</td><td>0.05313</td><td>0.1594</td></tr>\n",
       "</tbody>\n",
       "</table>\n"
      ],
      "text/latex": [
       "A data.frame: 4 × 8\n",
       "\\begin{tabular}{r|llllllll}\n",
       " Condition & Estimate & SE & CIup & CIdown & t value & p (raw) & p (Holm)\\\\\n",
       " <chr> & <dbl> & <dbl> & <dbl> & <dbl> & <dbl> & <dbl> & <dbl>\\\\\n",
       "\\hline\n",
       "\t 2 (Somewhat OT)       & -0.28 & 0.387 &  0.69 & -1.25 & -0.73 & 0.46658 & 0.4666\\\\\n",
       "\t 3 (Neither OT nor MW) & -1.14 & 0.418 & -0.09 & -2.18 & -2.71 & 0.00666 & 0.0266\\\\\n",
       "\t 4 (Somewhat MW)       & -0.64 & 0.446 &  0.47 & -1.76 & -1.44 & 0.15002 & 0.3000\\\\\n",
       "\t 5 (Completely MW)     & -1.23 & 0.636 &  0.36 & -2.82 & -1.93 & 0.05313 & 0.1594\\\\\n",
       "\\end{tabular}\n"
      ],
      "text/markdown": [
       "\n",
       "A data.frame: 4 × 8\n",
       "\n",
       "| Condition &lt;chr&gt; | Estimate &lt;dbl&gt; | SE &lt;dbl&gt; | CIup &lt;dbl&gt; | CIdown &lt;dbl&gt; | t value &lt;dbl&gt; | p (raw) &lt;dbl&gt; | p (Holm) &lt;dbl&gt; |\n",
       "|---|---|---|---|---|---|---|---|\n",
       "| 2 (Somewhat OT)       | -0.28 | 0.387 |  0.69 | -1.25 | -0.73 | 0.46658 | 0.4666 |\n",
       "| 3 (Neither OT nor MW) | -1.14 | 0.418 | -0.09 | -2.18 | -2.71 | 0.00666 | 0.0266 |\n",
       "| 4 (Somewhat MW)       | -0.64 | 0.446 |  0.47 | -1.76 | -1.44 | 0.15002 | 0.3000 |\n",
       "| 5 (Completely MW)     | -1.23 | 0.636 |  0.36 | -2.82 | -1.93 | 0.05313 | 0.1594 |\n",
       "\n"
      ],
      "text/plain": [
       "  Condition             Estimate SE    CIup  CIdown t value p (raw) p (Holm)\n",
       "1 2 (Somewhat OT)       -0.28    0.387  0.69 -1.25  -0.73   0.46658 0.4666  \n",
       "2 3 (Neither OT nor MW) -1.14    0.418 -0.09 -2.18  -2.71   0.00666 0.0266  \n",
       "3 4 (Somewhat MW)       -0.64    0.446  0.47 -1.76  -1.44   0.15002 0.3000  \n",
       "4 5 (Completely MW)     -1.23    0.636  0.36 -2.82  -1.93   0.05313 0.1594  "
      ]
     },
     "metadata": {},
     "output_type": "display_data"
    }
   ],
   "source": [
    "res <- t(summary(mod)$p.table[3,])\n",
    "res <- as.data.frame(res)\n",
    "res$Condition = paste(\"2 (Somewhat OT)\")\n",
    "posthocs <- res\n",
    "\n",
    "res <- t(summary(mod)$p.table[4,])\n",
    "res <- as.data.frame(res)\n",
    "res$Condition = paste(\"3 (Neither OT nor MW)\")\n",
    "posthocs <- rbind(posthocs, res)\n",
    "\n",
    "res <- t(summary(mod)$p.table[5,])\n",
    "res <- as.data.frame(res)\n",
    "res$Condition = paste(\"4 (Somewhat MW)\")\n",
    "posthocs <- rbind(posthocs, res)\n",
    "\n",
    "res <- t(summary(mod)$p.table[6,])\n",
    "res <- as.data.frame(res)\n",
    "res$Condition = paste(\"5 (Completely MW)\")\n",
    "posthocs <- rbind(posthocs, res)\n",
    "\n",
    "colnames(posthocs)[2] <- 'SE'\n",
    "colnames(posthocs)[4] <- 'p (raw)'\n",
    "\n",
    "# CIs\n",
    "ncomp  <- dim(posthocs)[1] #-2 # The -2 is bc the age x polynomial contrasts are repeated for each group, but are teh same\n",
    "thr <- adjust.se(alpha=0.05, df=1000, ncomp=ncomp)\n",
    "posthocs$CIup <- round(posthocs$Estimate + thr * posthocs$SE, 2)\n",
    "posthocs$CIdown <- round(posthocs$Estimate - thr * posthocs$SE, 2)\n",
    "\n",
    "# Round for pretty table\n",
    "posthocs[,'Estimate'] = round(posthocs[,'Estimate'],2)\n",
    "posthocs[,'SE'] = round(posthocs[,'SE'],3)\n",
    "posthocs[,'t value'] = round(posthocs[,'t value'],2)\n",
    "posthocs[,'p (raw)'] = round(posthocs[,'p (raw)'],5)\n",
    "\n",
    "# Reorder columns\n",
    "posthocs = posthocs[,c('Condition', 'Estimate','SE','CIup','CIdown','t value','p (raw)')]\n",
    "\n",
    "\n",
    "# Multiple comparison correction\n",
    "posthocs$'p (Holm)'     <- round(p.adjust(posthocs$'p (raw)', method='holm', n <- ncomp), 4)\n",
    "\n",
    "# write.csv(posthocs, file=paste(topdir, '/', expt, '_output/', 'stats ', CurTimeWin, \n",
    "#                                ' posthocs 4way BxGxVxR.csv' ,sep=''))\n",
    "\n",
    "posthocs"
   ]
  },
  {
   "cell_type": "code",
   "execution_count": 64,
   "metadata": {},
   "outputs": [
    {
     "name": "stderr",
     "output_type": "stream",
     "text": [
      "Saving 6.67 x 6.67 in image\n"
     ]
    },
    {
     "data": {
      "image/png": "[encoded data removed]",
      "text/plain": [
       "plot without title"
      ]
     },
     "metadata": {},
     "output_type": "display_data"
    }
   ],
   "source": [
    "ggplot(posthocs, aes(x=Condition, y=Estimate)) + \n",
    "        geom_bar(position='dodge', stat='identity', fill='cornflowerblue' ) +\n",
    "        geom_errorbar(aes(ymin = CIdown, ymax = CIup), \n",
    "                      size = 1, width = .5, \n",
    "                      position = position_dodge(width = .9), \n",
    "                      color = 'grey3') +\n",
    "        ylim(-4,4) + \n",
    "        ggtitle(\"P2 amplitude (150-200 ms; oddball stimuli)\") +\n",
    "        theme(plot.title = element_text(hjust=0.5)) +\n",
    "        xlab(\"Comparison\")\n",
    "\n",
    "ggsave(filename='oddball-p2.png', dpi=600)"
   ]
  }
 ],
 "metadata": {
  "anaconda-cloud": {},
  "kernel_info": {
   "name": "ir"
  },
  "kernelspec": {
   "display_name": "R",
   "language": "R",
   "name": "ir"
  },
  "language_info": {
   "codemirror_mode": "r",
   "file_extension": ".r",
   "mimetype": "text/x-r-source",
   "name": "R",
   "pygments_lexer": "r",
   "version": "3.6.1"
  },
  "nteract": {
   "version": "0.8.4"
  }
 },
 "nbformat": 4,
 "nbformat_minor": 4
}
